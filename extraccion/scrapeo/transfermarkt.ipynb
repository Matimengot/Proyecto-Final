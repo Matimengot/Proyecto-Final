{
 "cells": [
  {
   "cell_type": "code",
   "execution_count": 1,
   "metadata": {},
   "outputs": [],
   "source": [
    "import pandas as pd\n",
    "\n",
    "from selenium import webdriver\n",
    "\n",
    "import warnings\n",
    "warnings.filterwarnings('ignore')\n",
    "\n",
    "from selenium.webdriver.common.by import By\n",
    "\n",
    "from selenium.webdriver.chrome.options import Options\n",
    "\n",
    "import concurrent.futures \n",
    "\n",
    "from selenium.webdriver.support import expected_conditions as EC\n",
    "from selenium.common.exceptions import NoSuchElementException, TimeoutException\n",
    "\n",
    "from bs4 import BeautifulSoup as bs\n",
    "import requests as req\n",
    "\n",
    "import time"
   ]
  },
  {
   "cell_type": "code",
   "execution_count": 2,
   "metadata": {},
   "outputs": [],
   "source": [
    "#Cookies \n",
    "options=Options()\n",
    "options.add_argument(r'user-data-dir=C:\\Users\\matia\\anaconda3\\Lib\\site-packages\\selenium\\cookies') #Cargamos las cookies"
   ]
  },
  {
   "cell_type": "code",
   "execution_count": 3,
   "metadata": {},
   "outputs": [],
   "source": [
    "url = 'https://www.transfermarkt.es/schnellsuche/ergebnis/schnellsuche?query=abner'\n",
    "\n",
    "PATH = 'driver/chromedriver.exe'"
   ]
  },
  {
   "cell_type": "code",
   "execution_count": 4,
   "metadata": {},
   "outputs": [],
   "source": [
    "driver = webdriver.Chrome(PATH, options=options)\n",
    "\n",
    "driver.get(url)"
   ]
  },
  {
   "cell_type": "code",
   "execution_count": 5,
   "metadata": {},
   "outputs": [
    {
     "data": {
      "text/plain": [
       "'7,00 mill. €'"
      ]
     },
     "execution_count": 5,
     "metadata": {},
     "output_type": "execute_result"
    }
   ],
   "source": [
    "#Scrapeo para sacar el valor de un jugador\n",
    "driver.find_elements(By.CSS_SELECTOR, '#yw0 > table > tbody > tr:nth-child(1) > td.rechts.hauptlink')[0].text"
   ]
  },
  {
   "cell_type": "code",
   "execution_count": 6,
   "metadata": {},
   "outputs": [],
   "source": [
    "#Hago una funcion para scrapear el valor de todos mis jugadores\n",
    "def valor(futbolista,PATH):\n",
    "    \n",
    "    driver = webdriver.Chrome(PATH) \n",
    "    time.sleep(2)\n",
    "    driver.get(f'https://www.transfermarkt.es/schnellsuche/ergebnis/schnellsuche?query={futbolista}')\n",
    "    time.sleep(2)\n",
    "    try:\n",
    "        valor = driver.find_elements(By.CSS_SELECTOR, '#yw0 > table > tbody > tr:nth-child(1) > td.rechts.hauptlink')[0].text\n",
    "    except:\n",
    "        valor = '0'\n",
    "        print(f'No se encontro el valor de {futbolista}')\n",
    "\n",
    "    driver.quit()\n",
    "    return valor\n"
   ]
  },
  {
   "cell_type": "code",
   "execution_count": 7,
   "metadata": {},
   "outputs": [
    {
     "data": {
      "text/plain": [
       "'12,00 mill. €'"
      ]
     },
     "execution_count": 7,
     "metadata": {},
     "output_type": "execute_result"
    }
   ],
   "source": [
    "#Pruebo la funcion\n",
    "valor('Carvajal',PATH)"
   ]
  },
  {
   "cell_type": "markdown",
   "metadata": {},
   "source": [
    "# Se lo aplico a mi tabla completa"
   ]
  },
  {
   "cell_type": "code",
   "execution_count": 8,
   "metadata": {},
   "outputs": [],
   "source": [
    "stats2  = pd.read_csv('../../csv/csv_limpios/stats.csv')"
   ]
  },
  {
   "cell_type": "code",
   "execution_count": 9,
   "metadata": {},
   "outputs": [],
   "source": [
    "lista_jugadores = stats2['Jugador'].tolist()"
   ]
  },
  {
   "cell_type": "code",
   "execution_count": 10,
   "metadata": {},
   "outputs": [
    {
     "name": "stdout",
     "output_type": "stream",
     "text": [
      "No se encontro el valor de Paulo Oliveira\n",
      "No se encontro el valor de Djené\n",
      "No se encontro el valor de Rubén Peña\n",
      "No se encontro el valor de Dani Castellano\n",
      "No se encontro el valor de Javi Castellano\n",
      "No se encontro el valor de Chory Castro\n"
     ]
    },
    {
     "ename": "TimeoutException",
     "evalue": "Message: timeout: Timed out receiving message from renderer: 300.000\n  (Session info: chrome=119.0.6045.199)\nStacktrace:\n\tGetHandleVerifier [0x00007FF7ADD182B2+55298]\n\t(No symbol) [0x00007FF7ADC85E02]\n\t(No symbol) [0x00007FF7ADB405AB]\n\t(No symbol) [0x00007FF7ADB2E997]\n\t(No symbol) [0x00007FF7ADB2E7A8]\n\t(No symbol) [0x00007FF7ADB2CF0E]\n\t(No symbol) [0x00007FF7ADB2D9CE]\n\t(No symbol) [0x00007FF7ADB3A20F]\n\t(No symbol) [0x00007FF7ADB4B551]\n\t(No symbol) [0x00007FF7ADB4FC1A]\n\t(No symbol) [0x00007FF7ADB2E032]\n\t(No symbol) [0x00007FF7ADB4B42A]\n\t(No symbol) [0x00007FF7ADBBA9C8]\n\t(No symbol) [0x00007FF7ADBA1E83]\n\t(No symbol) [0x00007FF7ADB7670A]\n\t(No symbol) [0x00007FF7ADB77964]\n\tGetHandleVerifier [0x00007FF7AE090AAB+3694587]\n\tGetHandleVerifier [0x00007FF7AE0E728E+4048862]\n\tGetHandleVerifier [0x00007FF7AE0DF173+4015811]\n\tGetHandleVerifier [0x00007FF7ADDB47D6+695590]\n\t(No symbol) [0x00007FF7ADC90CE8]\n\t(No symbol) [0x00007FF7ADC8CF34]\n\t(No symbol) [0x00007FF7ADC8D062]\n\t(No symbol) [0x00007FF7ADC7D3A3]\n\tBaseThreadInitThunk [0x00007FFCE8F0257D+29]\n\tRtlUserThreadStart [0x00007FFCEA76AA58+40]\n",
     "output_type": "error",
     "traceback": [
      "\u001b[1;31m---------------------------------------------------------------------------\u001b[0m",
      "\u001b[1;31mTimeoutException\u001b[0m                          Traceback (most recent call last)",
      "\u001b[1;32mc:\\Users\\matia\\ironhack\\proyectos\\Proyecto-Final\\extraccion\\scrapeo\\transfermarkt.ipynb Cell 11\u001b[0m line \u001b[0;36m3\n\u001b[0;32m      <a href='vscode-notebook-cell:/c%3A/Users/matia/ironhack/proyectos/Proyecto-Final/extraccion/scrapeo/transfermarkt.ipynb#X13sZmlsZQ%3D%3D?line=0'>1</a>\u001b[0m \u001b[39mwith\u001b[39;00m concurrent\u001b[39m.\u001b[39mfutures\u001b[39m.\u001b[39mThreadPoolExecutor(max_workers\u001b[39m=\u001b[39m\u001b[39m10\u001b[39m) \u001b[39mas\u001b[39;00m executor:  \u001b[39m# Limita el número de hilos  \u001b[39;00m\n\u001b[0;32m      <a href='vscode-notebook-cell:/c%3A/Users/matia/ironhack/proyectos/Proyecto-Final/extraccion/scrapeo/transfermarkt.ipynb#X13sZmlsZQ%3D%3D?line=1'>2</a>\u001b[0m     futures \u001b[39m=\u001b[39m [executor\u001b[39m.\u001b[39msubmit(valor, jugador, PATH) \u001b[39mfor\u001b[39;00m jugador \u001b[39min\u001b[39;00m lista_jugadores]\n\u001b[1;32m----> <a href='vscode-notebook-cell:/c%3A/Users/matia/ironhack/proyectos/Proyecto-Final/extraccion/scrapeo/transfermarkt.ipynb#X13sZmlsZQ%3D%3D?line=2'>3</a>\u001b[0m     resultados \u001b[39m=\u001b[39m [f\u001b[39m.\u001b[39mresult() \u001b[39mfor\u001b[39;00m f \u001b[39min\u001b[39;00m concurrent\u001b[39m.\u001b[39mfutures\u001b[39m.\u001b[39mas_completed(futures)]\n",
      "\u001b[1;32mc:\\Users\\matia\\ironhack\\proyectos\\Proyecto-Final\\extraccion\\scrapeo\\transfermarkt.ipynb Cell 11\u001b[0m line \u001b[0;36m3\n\u001b[0;32m      <a href='vscode-notebook-cell:/c%3A/Users/matia/ironhack/proyectos/Proyecto-Final/extraccion/scrapeo/transfermarkt.ipynb#X13sZmlsZQ%3D%3D?line=0'>1</a>\u001b[0m \u001b[39mwith\u001b[39;00m concurrent\u001b[39m.\u001b[39mfutures\u001b[39m.\u001b[39mThreadPoolExecutor(max_workers\u001b[39m=\u001b[39m\u001b[39m10\u001b[39m) \u001b[39mas\u001b[39;00m executor:  \u001b[39m# Limita el número de hilos  \u001b[39;00m\n\u001b[0;32m      <a href='vscode-notebook-cell:/c%3A/Users/matia/ironhack/proyectos/Proyecto-Final/extraccion/scrapeo/transfermarkt.ipynb#X13sZmlsZQ%3D%3D?line=1'>2</a>\u001b[0m     futures \u001b[39m=\u001b[39m [executor\u001b[39m.\u001b[39msubmit(valor, jugador, PATH) \u001b[39mfor\u001b[39;00m jugador \u001b[39min\u001b[39;00m lista_jugadores]\n\u001b[1;32m----> <a href='vscode-notebook-cell:/c%3A/Users/matia/ironhack/proyectos/Proyecto-Final/extraccion/scrapeo/transfermarkt.ipynb#X13sZmlsZQ%3D%3D?line=2'>3</a>\u001b[0m     resultados \u001b[39m=\u001b[39m [f\u001b[39m.\u001b[39;49mresult() \u001b[39mfor\u001b[39;00m f \u001b[39min\u001b[39;00m concurrent\u001b[39m.\u001b[39mfutures\u001b[39m.\u001b[39mas_completed(futures)]\n",
      "File \u001b[1;32mc:\\Users\\matia\\anaconda3\\lib\\concurrent\\futures\\_base.py:451\u001b[0m, in \u001b[0;36mFuture.result\u001b[1;34m(self, timeout)\u001b[0m\n\u001b[0;32m    449\u001b[0m     \u001b[39mraise\u001b[39;00m CancelledError()\n\u001b[0;32m    450\u001b[0m \u001b[39melif\u001b[39;00m \u001b[39mself\u001b[39m\u001b[39m.\u001b[39m_state \u001b[39m==\u001b[39m FINISHED:\n\u001b[1;32m--> 451\u001b[0m     \u001b[39mreturn\u001b[39;00m \u001b[39mself\u001b[39;49m\u001b[39m.\u001b[39;49m__get_result()\n\u001b[0;32m    453\u001b[0m \u001b[39mself\u001b[39m\u001b[39m.\u001b[39m_condition\u001b[39m.\u001b[39mwait(timeout)\n\u001b[0;32m    455\u001b[0m \u001b[39mif\u001b[39;00m \u001b[39mself\u001b[39m\u001b[39m.\u001b[39m_state \u001b[39min\u001b[39;00m [CANCELLED, CANCELLED_AND_NOTIFIED]:\n",
      "File \u001b[1;32mc:\\Users\\matia\\anaconda3\\lib\\concurrent\\futures\\_base.py:403\u001b[0m, in \u001b[0;36mFuture.__get_result\u001b[1;34m(self)\u001b[0m\n\u001b[0;32m    401\u001b[0m \u001b[39mif\u001b[39;00m \u001b[39mself\u001b[39m\u001b[39m.\u001b[39m_exception:\n\u001b[0;32m    402\u001b[0m     \u001b[39mtry\u001b[39;00m:\n\u001b[1;32m--> 403\u001b[0m         \u001b[39mraise\u001b[39;00m \u001b[39mself\u001b[39m\u001b[39m.\u001b[39m_exception\n\u001b[0;32m    404\u001b[0m     \u001b[39mfinally\u001b[39;00m:\n\u001b[0;32m    405\u001b[0m         \u001b[39m# Break a reference cycle with the exception in self._exception\u001b[39;00m\n\u001b[0;32m    406\u001b[0m         \u001b[39mself\u001b[39m \u001b[39m=\u001b[39m \u001b[39mNone\u001b[39;00m\n",
      "File \u001b[1;32mc:\\Users\\matia\\anaconda3\\lib\\concurrent\\futures\\thread.py:58\u001b[0m, in \u001b[0;36m_WorkItem.run\u001b[1;34m(self)\u001b[0m\n\u001b[0;32m     55\u001b[0m     \u001b[39mreturn\u001b[39;00m\n\u001b[0;32m     57\u001b[0m \u001b[39mtry\u001b[39;00m:\n\u001b[1;32m---> 58\u001b[0m     result \u001b[39m=\u001b[39m \u001b[39mself\u001b[39m\u001b[39m.\u001b[39mfn(\u001b[39m*\u001b[39m\u001b[39mself\u001b[39m\u001b[39m.\u001b[39margs, \u001b[39m*\u001b[39m\u001b[39m*\u001b[39m\u001b[39mself\u001b[39m\u001b[39m.\u001b[39mkwargs)\n\u001b[0;32m     59\u001b[0m \u001b[39mexcept\u001b[39;00m \u001b[39mBaseException\u001b[39;00m \u001b[39mas\u001b[39;00m exc:\n\u001b[0;32m     60\u001b[0m     \u001b[39mself\u001b[39m\u001b[39m.\u001b[39mfuture\u001b[39m.\u001b[39mset_exception(exc)\n",
      "\u001b[1;32mc:\\Users\\matia\\ironhack\\proyectos\\Proyecto-Final\\extraccion\\scrapeo\\transfermarkt.ipynb Cell 11\u001b[0m line \u001b[0;36m6\n\u001b[0;32m      <a href='vscode-notebook-cell:/c%3A/Users/matia/ironhack/proyectos/Proyecto-Final/extraccion/scrapeo/transfermarkt.ipynb#X13sZmlsZQ%3D%3D?line=3'>4</a>\u001b[0m driver \u001b[39m=\u001b[39m webdriver\u001b[39m.\u001b[39mChrome(PATH) \n\u001b[0;32m      <a href='vscode-notebook-cell:/c%3A/Users/matia/ironhack/proyectos/Proyecto-Final/extraccion/scrapeo/transfermarkt.ipynb#X13sZmlsZQ%3D%3D?line=4'>5</a>\u001b[0m time\u001b[39m.\u001b[39msleep(\u001b[39m2\u001b[39m)\n\u001b[1;32m----> <a href='vscode-notebook-cell:/c%3A/Users/matia/ironhack/proyectos/Proyecto-Final/extraccion/scrapeo/transfermarkt.ipynb#X13sZmlsZQ%3D%3D?line=5'>6</a>\u001b[0m driver\u001b[39m.\u001b[39;49mget(\u001b[39mf\u001b[39;49m\u001b[39m'\u001b[39;49m\u001b[39mhttps://www.transfermarkt.es/schnellsuche/ergebnis/schnellsuche?query=\u001b[39;49m\u001b[39m{\u001b[39;49;00mfutbolista\u001b[39m}\u001b[39;49;00m\u001b[39m'\u001b[39;49m)\n\u001b[0;32m      <a href='vscode-notebook-cell:/c%3A/Users/matia/ironhack/proyectos/Proyecto-Final/extraccion/scrapeo/transfermarkt.ipynb#X13sZmlsZQ%3D%3D?line=6'>7</a>\u001b[0m time\u001b[39m.\u001b[39msleep(\u001b[39m2\u001b[39m)\n\u001b[0;32m      <a href='vscode-notebook-cell:/c%3A/Users/matia/ironhack/proyectos/Proyecto-Final/extraccion/scrapeo/transfermarkt.ipynb#X13sZmlsZQ%3D%3D?line=7'>8</a>\u001b[0m \u001b[39mtry\u001b[39;00m:\n",
      "File \u001b[1;32mc:\\Users\\matia\\anaconda3\\lib\\site-packages\\selenium\\webdriver\\remote\\webdriver.py:449\u001b[0m, in \u001b[0;36mWebDriver.get\u001b[1;34m(self, url)\u001b[0m\n\u001b[0;32m    447\u001b[0m \u001b[39mdef\u001b[39;00m \u001b[39mget\u001b[39m(\u001b[39mself\u001b[39m, url: \u001b[39mstr\u001b[39m) \u001b[39m-\u001b[39m\u001b[39m>\u001b[39m \u001b[39mNone\u001b[39;00m:\n\u001b[0;32m    448\u001b[0m     \u001b[39m\"\"\"Loads a web page in the current browser session.\"\"\"\u001b[39;00m\n\u001b[1;32m--> 449\u001b[0m     \u001b[39mself\u001b[39;49m\u001b[39m.\u001b[39;49mexecute(Command\u001b[39m.\u001b[39;49mGET, {\u001b[39m\"\u001b[39;49m\u001b[39murl\u001b[39;49m\u001b[39m\"\u001b[39;49m: url})\n",
      "File \u001b[1;32mc:\\Users\\matia\\anaconda3\\lib\\site-packages\\selenium\\webdriver\\remote\\webdriver.py:440\u001b[0m, in \u001b[0;36mWebDriver.execute\u001b[1;34m(self, driver_command, params)\u001b[0m\n\u001b[0;32m    438\u001b[0m response \u001b[39m=\u001b[39m \u001b[39mself\u001b[39m\u001b[39m.\u001b[39mcommand_executor\u001b[39m.\u001b[39mexecute(driver_command, params)\n\u001b[0;32m    439\u001b[0m \u001b[39mif\u001b[39;00m response:\n\u001b[1;32m--> 440\u001b[0m     \u001b[39mself\u001b[39;49m\u001b[39m.\u001b[39;49merror_handler\u001b[39m.\u001b[39;49mcheck_response(response)\n\u001b[0;32m    441\u001b[0m     response[\u001b[39m\"\u001b[39m\u001b[39mvalue\u001b[39m\u001b[39m\"\u001b[39m] \u001b[39m=\u001b[39m \u001b[39mself\u001b[39m\u001b[39m.\u001b[39m_unwrap_value(response\u001b[39m.\u001b[39mget(\u001b[39m\"\u001b[39m\u001b[39mvalue\u001b[39m\u001b[39m\"\u001b[39m, \u001b[39mNone\u001b[39;00m))\n\u001b[0;32m    442\u001b[0m     \u001b[39mreturn\u001b[39;00m response\n",
      "File \u001b[1;32mc:\\Users\\matia\\anaconda3\\lib\\site-packages\\selenium\\webdriver\\remote\\errorhandler.py:245\u001b[0m, in \u001b[0;36mErrorHandler.check_response\u001b[1;34m(self, response)\u001b[0m\n\u001b[0;32m    243\u001b[0m         alert_text \u001b[39m=\u001b[39m value[\u001b[39m\"\u001b[39m\u001b[39malert\u001b[39m\u001b[39m\"\u001b[39m]\u001b[39m.\u001b[39mget(\u001b[39m\"\u001b[39m\u001b[39mtext\u001b[39m\u001b[39m\"\u001b[39m)\n\u001b[0;32m    244\u001b[0m     \u001b[39mraise\u001b[39;00m exception_class(message, screen, stacktrace, alert_text)  \u001b[39m# type: ignore[call-arg]  # mypy is not smart enough here\u001b[39;00m\n\u001b[1;32m--> 245\u001b[0m \u001b[39mraise\u001b[39;00m exception_class(message, screen, stacktrace)\n",
      "\u001b[1;31mTimeoutException\u001b[0m: Message: timeout: Timed out receiving message from renderer: 300.000\n  (Session info: chrome=119.0.6045.199)\nStacktrace:\n\tGetHandleVerifier [0x00007FF7ADD182B2+55298]\n\t(No symbol) [0x00007FF7ADC85E02]\n\t(No symbol) [0x00007FF7ADB405AB]\n\t(No symbol) [0x00007FF7ADB2E997]\n\t(No symbol) [0x00007FF7ADB2E7A8]\n\t(No symbol) [0x00007FF7ADB2CF0E]\n\t(No symbol) [0x00007FF7ADB2D9CE]\n\t(No symbol) [0x00007FF7ADB3A20F]\n\t(No symbol) [0x00007FF7ADB4B551]\n\t(No symbol) [0x00007FF7ADB4FC1A]\n\t(No symbol) [0x00007FF7ADB2E032]\n\t(No symbol) [0x00007FF7ADB4B42A]\n\t(No symbol) [0x00007FF7ADBBA9C8]\n\t(No symbol) [0x00007FF7ADBA1E83]\n\t(No symbol) [0x00007FF7ADB7670A]\n\t(No symbol) [0x00007FF7ADB77964]\n\tGetHandleVerifier [0x00007FF7AE090AAB+3694587]\n\tGetHandleVerifier [0x00007FF7AE0E728E+4048862]\n\tGetHandleVerifier [0x00007FF7AE0DF173+4015811]\n\tGetHandleVerifier [0x00007FF7ADDB47D6+695590]\n\t(No symbol) [0x00007FF7ADC90CE8]\n\t(No symbol) [0x00007FF7ADC8CF34]\n\t(No symbol) [0x00007FF7ADC8D062]\n\t(No symbol) [0x00007FF7ADC7D3A3]\n\tBaseThreadInitThunk [0x00007FFCE8F0257D+29]\n\tRtlUserThreadStart [0x00007FFCEA76AA58+40]\n"
     ]
    }
   ],
   "source": [
    "with concurrent.futures.ThreadPoolExecutor(max_workers=7) as executor:  # Limita el número de hilos  \n",
    "    futures = [executor.submit(valor, jugador, PATH) for jugador in lista_jugadores]\n",
    "    resultados = [f.result() for f in concurrent.futures.as_completed(futures)]"
   ]
  },
  {
   "cell_type": "code",
   "execution_count": 11,
   "metadata": {},
   "outputs": [
    {
     "ename": "NameError",
     "evalue": "name 'resultados' is not defined",
     "output_type": "error",
     "traceback": [
      "\u001b[1;31m---------------------------------------------------------------------------\u001b[0m",
      "\u001b[1;31mNameError\u001b[0m                                 Traceback (most recent call last)",
      "\u001b[1;32mc:\\Users\\matia\\ironhack\\proyectos\\Proyecto-Final\\extraccion\\scrapeo\\transfermarkt.ipynb Cell 12\u001b[0m line \u001b[0;36m1\n\u001b[1;32m----> <a href='vscode-notebook-cell:/c%3A/Users/matia/ironhack/proyectos/Proyecto-Final/extraccion/scrapeo/transfermarkt.ipynb#X14sZmlsZQ%3D%3D?line=0'>1</a>\u001b[0m stats2[\u001b[39m'\u001b[39m\u001b[39mValor Mercado\u001b[39m\u001b[39m'\u001b[39m] \u001b[39m=\u001b[39m resultados\n",
      "\u001b[1;31mNameError\u001b[0m: name 'resultados' is not defined"
     ]
    }
   ],
   "source": [
    "stats2['Valor Mercado'] = resultados"
   ]
  },
  {
   "cell_type": "markdown",
   "metadata": {},
   "source": [
    "# Lo aplico a temporada 2022\n"
   ]
  },
  {
   "cell_type": "code",
   "execution_count": null,
   "metadata": {},
   "outputs": [],
   "source": [
    "df = pd.read_csv('../../csv/csv_limpios/jugadores_2022_lp.csv')"
   ]
  },
  {
   "cell_type": "code",
   "execution_count": null,
   "metadata": {},
   "outputs": [],
   "source": [
    "lista_jugadores_22 = df['Jugador'].tolist()"
   ]
  },
  {
   "cell_type": "code",
   "execution_count": null,
   "metadata": {},
   "outputs": [],
   "source": [
    "with concurrent.futures.ThreadPoolExecutor(max_workers=10) as executor:  # Limita el número de hilos  \n",
    "    futures = [executor.submit(valor, jugador, PATH) for jugador in lista_jugadores_22]\n",
    "    resultados = [f.result() for f in concurrent.futures.as_completed(futures)]"
   ]
  },
  {
   "cell_type": "code",
   "execution_count": null,
   "metadata": {},
   "outputs": [],
   "source": [
    "df['Valor Mercado'] = resultados"
   ]
  },
  {
   "cell_type": "markdown",
   "metadata": {},
   "source": [
    "# Exporto a csv limpio"
   ]
  },
  {
   "cell_type": "code",
   "execution_count": null,
   "metadata": {},
   "outputs": [],
   "source": [
    "df2.to_csv('../../csv/csv_limpios/jugadores_2023_lp.csv', index=False)"
   ]
  },
  {
   "cell_type": "code",
   "execution_count": null,
   "metadata": {},
   "outputs": [],
   "source": []
  }
 ],
 "metadata": {
  "kernelspec": {
   "display_name": "base",
   "language": "python",
   "name": "python3"
  },
  "language_info": {
   "codemirror_mode": {
    "name": "ipython",
    "version": 3
   },
   "file_extension": ".py",
   "mimetype": "text/x-python",
   "name": "python",
   "nbconvert_exporter": "python",
   "pygments_lexer": "ipython3",
   "version": "3.10.9"
  }
 },
 "nbformat": 4,
 "nbformat_minor": 2
}
