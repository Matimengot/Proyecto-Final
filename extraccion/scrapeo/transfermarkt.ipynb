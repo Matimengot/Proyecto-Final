{
 "cells": [
  {
   "cell_type": "code",
   "execution_count": 1,
   "metadata": {},
   "outputs": [],
   "source": [
    "import pandas as pd\n",
    "\n",
    "from selenium import webdriver\n",
    "\n",
    "import warnings\n",
    "warnings.filterwarnings('ignore')\n",
    "\n",
    "from selenium.webdriver.common.by import By\n",
    "\n",
    "from selenium.webdriver.chrome.options import Options\n",
    "\n",
    "import concurrent.futures \n",
    "\n",
    "from selenium.webdriver.support import expected_conditions as EC\n",
    "from selenium.common.exceptions import NoSuchElementException, TimeoutException\n",
    "\n",
    "from bs4 import BeautifulSoup as bs\n",
    "import requests as req\n",
    "\n",
    "import time"
   ]
  },
  {
   "cell_type": "code",
   "execution_count": 2,
   "metadata": {},
   "outputs": [],
   "source": [
    "#Cookies \n",
    "options=Options()\n",
    "options.add_argument(r'user-data-dir=C:\\Users\\matia\\anaconda3\\Lib\\site-packages\\selenium\\cookies') #Cargamos las cookies"
   ]
  },
  {
   "cell_type": "code",
   "execution_count": 3,
   "metadata": {},
   "outputs": [],
   "source": [
    "url = 'https://www.transfermarkt.es/schnellsuche/ergebnis/schnellsuche?query=abner'\n",
    "\n",
    "PATH = 'driver/chromedriver.exe'"
   ]
  },
  {
   "cell_type": "code",
   "execution_count": 4,
   "metadata": {},
   "outputs": [],
   "source": [
    "driver = webdriver.Chrome(PATH, options=options)\n",
    "\n",
    "driver.get(url)"
   ]
  },
  {
   "cell_type": "code",
   "execution_count": 5,
   "metadata": {},
   "outputs": [
    {
     "data": {
      "text/plain": [
       "'7,00 mill. €'"
      ]
     },
     "execution_count": 5,
     "metadata": {},
     "output_type": "execute_result"
    }
   ],
   "source": [
    "#Scrapeo para sacar el valor de un jugador\n",
    "driver.find_elements(By.CSS_SELECTOR, '#yw0 > table > tbody > tr:nth-child(1) > td.rechts.hauptlink')[0].text"
   ]
  },
  {
   "cell_type": "code",
   "execution_count": 6,
   "metadata": {},
   "outputs": [],
   "source": [
    "#Hago una funcion para scrapear el valor de todos mis jugadores\n",
    "def valor(futbolista,PATH):\n",
    "    \n",
    "    driver = webdriver.Chrome(PATH) \n",
    "    time.sleep(2)\n",
    "    driver.get(f'https://www.transfermarkt.es/schnellsuche/ergebnis/schnellsuche?query={futbolista}')\n",
    "    time.sleep(2)\n",
    "    try:\n",
    "        valor = driver.find_elements(By.CSS_SELECTOR, '#yw0 > table > tbody > tr:nth-child(1) > td.rechts.hauptlink')[0].text\n",
    "    except:\n",
    "        valor = 'NaN'\n",
    "        print(f'No se encontro el valor de {futbolista}')\n",
    "\n",
    "    driver.quit()\n",
    "    return valor\n"
   ]
  },
  {
   "cell_type": "code",
   "execution_count": 7,
   "metadata": {},
   "outputs": [
    {
     "data": {
      "text/plain": [
       "'12,00 mill. €'"
      ]
     },
     "execution_count": 7,
     "metadata": {},
     "output_type": "execute_result"
    }
   ],
   "source": [
    "#Pruebo la funcion\n",
    "valor('Carvajal',PATH)"
   ]
  },
  {
   "cell_type": "markdown",
   "metadata": {},
   "source": [
    "# Lo aplico a mi dataframe\n"
   ]
  },
  {
   "cell_type": "code",
   "execution_count": 8,
   "metadata": {},
   "outputs": [],
   "source": [
    "df = pd.read_csv('../../csv/csv_limpios/jugadores_2022_lp.csv')"
   ]
  },
  {
   "cell_type": "code",
   "execution_count": 9,
   "metadata": {},
   "outputs": [],
   "source": [
    "lista_jugadores_22 = df['Jugador'].tolist()"
   ]
  },
  {
   "cell_type": "code",
   "execution_count": 10,
   "metadata": {},
   "outputs": [],
   "source": [
    "with concurrent.futures.ThreadPoolExecutor(max_workers=12) as executor:  # Limita el número de hilos  \n",
    "    futures = [executor.submit(valor, jugador, PATH) for jugador in lista_jugadores_22]\n",
    "    resultados = [f.result() for f in concurrent.futures.as_completed(futures)]"
   ]
  },
  {
   "cell_type": "code",
   "execution_count": 11,
   "metadata": {},
   "outputs": [],
   "source": [
    "df['Valor Mercado'] = resultados"
   ]
  },
  {
   "cell_type": "markdown",
   "metadata": {},
   "source": [
    "# Lo aplico a mi dataframe de 2023\n"
   ]
  },
  {
   "cell_type": "code",
   "execution_count": 12,
   "metadata": {},
   "outputs": [],
   "source": [
    "df2 = pd.read_csv('../../csv/csv_limpios/jugadores_2023_lp.csv')"
   ]
  },
  {
   "cell_type": "code",
   "execution_count": 13,
   "metadata": {},
   "outputs": [
    {
     "data": {
      "text/plain": [
       "470"
      ]
     },
     "execution_count": 13,
     "metadata": {},
     "output_type": "execute_result"
    }
   ],
   "source": [
    "lista_jugadores_23 = df2['Jugador'].tolist()\n",
    "len(lista_jugadores_23)"
   ]
  },
  {
   "cell_type": "code",
   "execution_count": 14,
   "metadata": {},
   "outputs": [],
   "source": [
    "with concurrent.futures.ThreadPoolExecutor(max_workers=12) as executor:  # Limita el número de hilos  \n",
    "    futures = [executor.submit(valor, jugador, PATH) for jugador in lista_jugadores_23]\n",
    "    resultados_23 = [f.result() for f in concurrent.futures.as_completed(futures)]"
   ]
  },
  {
   "cell_type": "code",
   "execution_count": 15,
   "metadata": {},
   "outputs": [],
   "source": [
    "df2['Valor Mercado'] = resultados_23"
   ]
  },
  {
   "cell_type": "code",
   "execution_count": 16,
   "metadata": {},
   "outputs": [
    {
     "data": {
      "text/html": [
       "<div>\n",
       "<style scoped>\n",
       "    .dataframe tbody tr th:only-of-type {\n",
       "        vertical-align: middle;\n",
       "    }\n",
       "\n",
       "    .dataframe tbody tr th {\n",
       "        vertical-align: top;\n",
       "    }\n",
       "\n",
       "    .dataframe thead th {\n",
       "        text-align: right;\n",
       "    }\n",
       "</style>\n",
       "<table border=\"1\" class=\"dataframe\">\n",
       "  <thead>\n",
       "    <tr style=\"text-align: right;\">\n",
       "      <th></th>\n",
       "      <th>Unnamed: 0</th>\n",
       "      <th>Jugador</th>\n",
       "      <th>País</th>\n",
       "      <th>Posc</th>\n",
       "      <th>Equipo</th>\n",
       "      <th>Edad</th>\n",
       "      <th>Nacimiento</th>\n",
       "      <th>PJ</th>\n",
       "      <th>Titular</th>\n",
       "      <th>Mín</th>\n",
       "      <th>Gls.</th>\n",
       "      <th>Asistencias</th>\n",
       "      <th>Goles+Asistencias</th>\n",
       "      <th>Tarjetas Amarillas</th>\n",
       "      <th>Tarjetas Rojas</th>\n",
       "      <th>Goles Esperados</th>\n",
       "      <th>Asistencias Esperadas</th>\n",
       "      <th>Valor Mercado</th>\n",
       "    </tr>\n",
       "  </thead>\n",
       "  <tbody>\n",
       "    <tr>\n",
       "      <th>0</th>\n",
       "      <td>0</td>\n",
       "      <td>Abner</td>\n",
       "      <td>BRA</td>\n",
       "      <td>Defensa</td>\n",
       "      <td>Betis</td>\n",
       "      <td>23</td>\n",
       "      <td>2000</td>\n",
       "      <td>9</td>\n",
       "      <td>5</td>\n",
       "      <td>522</td>\n",
       "      <td>0</td>\n",
       "      <td>0</td>\n",
       "      <td>0</td>\n",
       "      <td>2</td>\n",
       "      <td>0</td>\n",
       "      <td>0.1</td>\n",
       "      <td>0.4</td>\n",
       "      <td>2,50 mill. €</td>\n",
       "    </tr>\n",
       "    <tr>\n",
       "      <th>1</th>\n",
       "      <td>1</td>\n",
       "      <td>Abdel Abqar</td>\n",
       "      <td>MAR</td>\n",
       "      <td>Defensa</td>\n",
       "      <td>Alavés</td>\n",
       "      <td>24</td>\n",
       "      <td>1999</td>\n",
       "      <td>11</td>\n",
       "      <td>11</td>\n",
       "      <td>989</td>\n",
       "      <td>0</td>\n",
       "      <td>0</td>\n",
       "      <td>0</td>\n",
       "      <td>3</td>\n",
       "      <td>0</td>\n",
       "      <td>0.2</td>\n",
       "      <td>0.0</td>\n",
       "      <td>8,00 mill. €</td>\n",
       "    </tr>\n",
       "    <tr>\n",
       "      <th>2</th>\n",
       "      <td>2</td>\n",
       "      <td>Marcos Acuña</td>\n",
       "      <td>ARG</td>\n",
       "      <td>Defensa</td>\n",
       "      <td>Sevilla</td>\n",
       "      <td>32</td>\n",
       "      <td>1991</td>\n",
       "      <td>7</td>\n",
       "      <td>6</td>\n",
       "      <td>411</td>\n",
       "      <td>0</td>\n",
       "      <td>0</td>\n",
       "      <td>0</td>\n",
       "      <td>2</td>\n",
       "      <td>0</td>\n",
       "      <td>0.1</td>\n",
       "      <td>0.3</td>\n",
       "      <td>3,50 mill. €</td>\n",
       "    </tr>\n",
       "    <tr>\n",
       "      <th>3</th>\n",
       "      <td>3</td>\n",
       "      <td>Joseph Aidoo</td>\n",
       "      <td>GHA</td>\n",
       "      <td>Defensa</td>\n",
       "      <td>Celta Vigo</td>\n",
       "      <td>28</td>\n",
       "      <td>1995</td>\n",
       "      <td>6</td>\n",
       "      <td>4</td>\n",
       "      <td>407</td>\n",
       "      <td>0</td>\n",
       "      <td>0</td>\n",
       "      <td>0</td>\n",
       "      <td>0</td>\n",
       "      <td>0</td>\n",
       "      <td>0.1</td>\n",
       "      <td>0.1</td>\n",
       "      <td>3,00 mill. €</td>\n",
       "    </tr>\n",
       "    <tr>\n",
       "      <th>4</th>\n",
       "      <td>4</td>\n",
       "      <td>Ilias Akhomach</td>\n",
       "      <td>ESP</td>\n",
       "      <td>Centrocampista</td>\n",
       "      <td>Villarreal</td>\n",
       "      <td>19</td>\n",
       "      <td>2004</td>\n",
       "      <td>10</td>\n",
       "      <td>2</td>\n",
       "      <td>346</td>\n",
       "      <td>0</td>\n",
       "      <td>1</td>\n",
       "      <td>1</td>\n",
       "      <td>2</td>\n",
       "      <td>0</td>\n",
       "      <td>0.1</td>\n",
       "      <td>0.4</td>\n",
       "      <td>1,20 mill. €</td>\n",
       "    </tr>\n",
       "    <tr>\n",
       "      <th>...</th>\n",
       "      <td>...</td>\n",
       "      <td>...</td>\n",
       "      <td>...</td>\n",
       "      <td>...</td>\n",
       "      <td>...</td>\n",
       "      <td>...</td>\n",
       "      <td>...</td>\n",
       "      <td>...</td>\n",
       "      <td>...</td>\n",
       "      <td>...</td>\n",
       "      <td>...</td>\n",
       "      <td>...</td>\n",
       "      <td>...</td>\n",
       "      <td>...</td>\n",
       "      <td>...</td>\n",
       "      <td>...</td>\n",
       "      <td>...</td>\n",
       "      <td>...</td>\n",
       "    </tr>\n",
       "    <tr>\n",
       "      <th>465</th>\n",
       "      <td>474</td>\n",
       "      <td>Arsen Zakharyan</td>\n",
       "      <td>RUS</td>\n",
       "      <td>Centrocampista</td>\n",
       "      <td>Real Sociedad</td>\n",
       "      <td>20</td>\n",
       "      <td>2003</td>\n",
       "      <td>8</td>\n",
       "      <td>2</td>\n",
       "      <td>207</td>\n",
       "      <td>0</td>\n",
       "      <td>0</td>\n",
       "      <td>0</td>\n",
       "      <td>0</td>\n",
       "      <td>0</td>\n",
       "      <td>0.1</td>\n",
       "      <td>0.4</td>\n",
       "      <td>5,00 mill. €</td>\n",
       "    </tr>\n",
       "    <tr>\n",
       "      <th>466</th>\n",
       "      <td>475</td>\n",
       "      <td>Joseba Zaldúa</td>\n",
       "      <td>ESP</td>\n",
       "      <td>Defensa</td>\n",
       "      <td>Cádiz</td>\n",
       "      <td>31</td>\n",
       "      <td>1992</td>\n",
       "      <td>2</td>\n",
       "      <td>2</td>\n",
       "      <td>139</td>\n",
       "      <td>0</td>\n",
       "      <td>0</td>\n",
       "      <td>0</td>\n",
       "      <td>0</td>\n",
       "      <td>0</td>\n",
       "      <td>0.0</td>\n",
       "      <td>0.0</td>\n",
       "      <td>40,00 mill. €</td>\n",
       "    </tr>\n",
       "    <tr>\n",
       "      <th>467</th>\n",
       "      <td>476</td>\n",
       "      <td>Bryan Zaragoza</td>\n",
       "      <td>ESP</td>\n",
       "      <td>Centrocampista</td>\n",
       "      <td>Granada</td>\n",
       "      <td>22</td>\n",
       "      <td>2001</td>\n",
       "      <td>13</td>\n",
       "      <td>10</td>\n",
       "      <td>937</td>\n",
       "      <td>5</td>\n",
       "      <td>2</td>\n",
       "      <td>7</td>\n",
       "      <td>5</td>\n",
       "      <td>0</td>\n",
       "      <td>2.7</td>\n",
       "      <td>2.0</td>\n",
       "      <td>18,00 mill. €</td>\n",
       "    </tr>\n",
       "    <tr>\n",
       "      <th>468</th>\n",
       "      <td>477</td>\n",
       "      <td>Igor Zubeldia</td>\n",
       "      <td>ESP</td>\n",
       "      <td>Defensa</td>\n",
       "      <td>Real Sociedad</td>\n",
       "      <td>26</td>\n",
       "      <td>1997</td>\n",
       "      <td>13</td>\n",
       "      <td>12</td>\n",
       "      <td>1081</td>\n",
       "      <td>0</td>\n",
       "      <td>0</td>\n",
       "      <td>0</td>\n",
       "      <td>6</td>\n",
       "      <td>0</td>\n",
       "      <td>0.2</td>\n",
       "      <td>0.6</td>\n",
       "      <td>1,50 mill. €</td>\n",
       "    </tr>\n",
       "    <tr>\n",
       "      <th>469</th>\n",
       "      <td>478</td>\n",
       "      <td>Martín Zubimendi</td>\n",
       "      <td>ESP</td>\n",
       "      <td>Centrocampista</td>\n",
       "      <td>Real Sociedad</td>\n",
       "      <td>24</td>\n",
       "      <td>1999</td>\n",
       "      <td>14</td>\n",
       "      <td>12</td>\n",
       "      <td>1158</td>\n",
       "      <td>2</td>\n",
       "      <td>1</td>\n",
       "      <td>3</td>\n",
       "      <td>2</td>\n",
       "      <td>0</td>\n",
       "      <td>1.2</td>\n",
       "      <td>1.0</td>\n",
       "      <td>8,00 mill. €</td>\n",
       "    </tr>\n",
       "  </tbody>\n",
       "</table>\n",
       "<p>470 rows × 18 columns</p>\n",
       "</div>"
      ],
      "text/plain": [
       "     Unnamed: 0           Jugador País            Posc         Equipo  Edad  \\\n",
       "0             0             Abner  BRA         Defensa          Betis    23   \n",
       "1             1       Abdel Abqar  MAR         Defensa         Alavés    24   \n",
       "2             2      Marcos Acuña  ARG         Defensa        Sevilla    32   \n",
       "3             3      Joseph Aidoo  GHA         Defensa     Celta Vigo    28   \n",
       "4             4    Ilias Akhomach  ESP  Centrocampista     Villarreal    19   \n",
       "..          ...               ...  ...             ...            ...   ...   \n",
       "465         474   Arsen Zakharyan  RUS  Centrocampista  Real Sociedad    20   \n",
       "466         475     Joseba Zaldúa  ESP         Defensa          Cádiz    31   \n",
       "467         476    Bryan Zaragoza  ESP  Centrocampista        Granada    22   \n",
       "468         477     Igor Zubeldia  ESP         Defensa  Real Sociedad    26   \n",
       "469         478  Martín Zubimendi  ESP  Centrocampista  Real Sociedad    24   \n",
       "\n",
       "     Nacimiento  PJ  Titular   Mín  Gls.  Asistencias  Goles+Asistencias  \\\n",
       "0          2000   9        5   522     0            0                  0   \n",
       "1          1999  11       11   989     0            0                  0   \n",
       "2          1991   7        6   411     0            0                  0   \n",
       "3          1995   6        4   407     0            0                  0   \n",
       "4          2004  10        2   346     0            1                  1   \n",
       "..          ...  ..      ...   ...   ...          ...                ...   \n",
       "465        2003   8        2   207     0            0                  0   \n",
       "466        1992   2        2   139     0            0                  0   \n",
       "467        2001  13       10   937     5            2                  7   \n",
       "468        1997  13       12  1081     0            0                  0   \n",
       "469        1999  14       12  1158     2            1                  3   \n",
       "\n",
       "     Tarjetas Amarillas  Tarjetas Rojas  Goles Esperados  \\\n",
       "0                     2               0              0.1   \n",
       "1                     3               0              0.2   \n",
       "2                     2               0              0.1   \n",
       "3                     0               0              0.1   \n",
       "4                     2               0              0.1   \n",
       "..                  ...             ...              ...   \n",
       "465                   0               0              0.1   \n",
       "466                   0               0              0.0   \n",
       "467                   5               0              2.7   \n",
       "468                   6               0              0.2   \n",
       "469                   2               0              1.2   \n",
       "\n",
       "     Asistencias Esperadas  Valor Mercado  \n",
       "0                      0.4   2,50 mill. €  \n",
       "1                      0.0   8,00 mill. €  \n",
       "2                      0.3   3,50 mill. €  \n",
       "3                      0.1   3,00 mill. €  \n",
       "4                      0.4   1,20 mill. €  \n",
       "..                     ...            ...  \n",
       "465                    0.4   5,00 mill. €  \n",
       "466                    0.0  40,00 mill. €  \n",
       "467                    2.0  18,00 mill. €  \n",
       "468                    0.6   1,50 mill. €  \n",
       "469                    1.0   8,00 mill. €  \n",
       "\n",
       "[470 rows x 18 columns]"
      ]
     },
     "execution_count": 16,
     "metadata": {},
     "output_type": "execute_result"
    }
   ],
   "source": [
    "df2"
   ]
  },
  {
   "cell_type": "markdown",
   "metadata": {},
   "source": [
    "# Exporto a csv limpio"
   ]
  },
  {
   "cell_type": "code",
   "execution_count": 17,
   "metadata": {},
   "outputs": [],
   "source": [
    "df2.to_csv('../../csv/csv_limpios/jugadores_2023_lp.csv', index=False)"
   ]
  },
  {
   "cell_type": "code",
   "execution_count": null,
   "metadata": {},
   "outputs": [],
   "source": []
  }
 ],
 "metadata": {
  "kernelspec": {
   "display_name": "base",
   "language": "python",
   "name": "python3"
  },
  "language_info": {
   "codemirror_mode": {
    "name": "ipython",
    "version": 3
   },
   "file_extension": ".py",
   "mimetype": "text/x-python",
   "name": "python",
   "nbconvert_exporter": "python",
   "pygments_lexer": "ipython3",
   "version": "3.10.9"
  }
 },
 "nbformat": 4,
 "nbformat_minor": 2
}
