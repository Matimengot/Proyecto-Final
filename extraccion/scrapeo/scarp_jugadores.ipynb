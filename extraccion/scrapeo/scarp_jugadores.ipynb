{
 "cells": [
  {
   "cell_type": "markdown",
   "metadata": {},
   "source": [
    "# Scrap temporada 2023\n",
    "\n"
   ]
  },
  {
   "cell_type": "code",
   "execution_count": 1,
   "metadata": {},
   "outputs": [],
   "source": [
    "import pandas as pd\n",
    "\n",
    "from selenium import webdriver\n",
    "\n",
    "import warnings\n",
    "warnings.filterwarnings('ignore')\n",
    "\n",
    "from selenium.webdriver.common.by import By\n",
    "\n",
    "from selenium.webdriver.chrome.options import Options\n",
    "\n",
    "from selenium.webdriver.support.ui import WebDriverWait\n",
    "from selenium.webdriver.support import expected_conditions as EC\n",
    "from selenium.common.exceptions import NoSuchElementException, TimeoutException\n",
    "\n",
    "from bs4 import BeautifulSoup as bs\n",
    "import requests as req\n",
    "\n",
    "import time"
   ]
  },
  {
   "cell_type": "code",
   "execution_count": 2,
   "metadata": {},
   "outputs": [],
   "source": [
    "#Cookies \n",
    "options=Options()\n",
    "options.add_argument(r'user-data-dir=C:\\Users\\matia\\anaconda3\\Lib\\site-packages\\selenium\\cookies') #Cargamos las cookies"
   ]
  },
  {
   "cell_type": "code",
   "execution_count": 3,
   "metadata": {},
   "outputs": [],
   "source": [
    "url = 'https://fbref.com/es/comps/12/stats/Estadisticas-de-La-Liga'\n",
    "\n",
    "PATH = 'driver/chromedriver.exe'"
   ]
  },
  {
   "cell_type": "code",
   "execution_count": 4,
   "metadata": {},
   "outputs": [],
   "source": [
    "driver = webdriver.Chrome(PATH, options=options)\n",
    "\n",
    "driver.get(url)"
   ]
  },
  {
   "cell_type": "code",
   "execution_count": 5,
   "metadata": {},
   "outputs": [],
   "source": [
    "html = driver.page_source"
   ]
  },
  {
   "cell_type": "code",
   "execution_count": 6,
   "metadata": {},
   "outputs": [],
   "source": [
    "soup = bs(html, 'html.parser')"
   ]
  },
  {
   "cell_type": "code",
   "execution_count": 7,
   "metadata": {},
   "outputs": [],
   "source": [
    "tables = soup.find_all('table')"
   ]
  },
  {
   "cell_type": "code",
   "execution_count": 8,
   "metadata": {},
   "outputs": [
    {
     "data": {
      "text/plain": [
       "12"
      ]
     },
     "execution_count": 8,
     "metadata": {},
     "output_type": "execute_result"
    }
   ],
   "source": [
    "len(tables)"
   ]
  },
  {
   "cell_type": "code",
   "execution_count": 9,
   "metadata": {},
   "outputs": [
    {
     "data": {
      "text/html": [
       "<div>\n",
       "<style scoped>\n",
       "    .dataframe tbody tr th:only-of-type {\n",
       "        vertical-align: middle;\n",
       "    }\n",
       "\n",
       "    .dataframe tbody tr th {\n",
       "        vertical-align: top;\n",
       "    }\n",
       "\n",
       "    .dataframe thead tr th {\n",
       "        text-align: left;\n",
       "    }\n",
       "</style>\n",
       "<table border=\"1\" class=\"dataframe\">\n",
       "  <thead>\n",
       "    <tr>\n",
       "      <th></th>\n",
       "      <th>Unnamed: 0_level_0</th>\n",
       "      <th>Unnamed: 1_level_0</th>\n",
       "      <th>Unnamed: 2_level_0</th>\n",
       "      <th>Unnamed: 3_level_0</th>\n",
       "      <th>Unnamed: 4_level_0</th>\n",
       "      <th>Unnamed: 5_level_0</th>\n",
       "      <th>Unnamed: 6_level_0</th>\n",
       "      <th colspan=\"3\" halign=\"left\">Tiempo Jugado</th>\n",
       "      <th>...</th>\n",
       "      <th colspan=\"9\" halign=\"left\">Por 90 Minutos</th>\n",
       "      <th>Unnamed: 36_level_0</th>\n",
       "    </tr>\n",
       "    <tr>\n",
       "      <th></th>\n",
       "      <th>RL</th>\n",
       "      <th>Jugador</th>\n",
       "      <th>País</th>\n",
       "      <th>Posc</th>\n",
       "      <th>Equipo</th>\n",
       "      <th>Edad</th>\n",
       "      <th>Nacimiento</th>\n",
       "      <th>PJ</th>\n",
       "      <th>Titular</th>\n",
       "      <th>Mín</th>\n",
       "      <th>...</th>\n",
       "      <th>Ast</th>\n",
       "      <th>G+A</th>\n",
       "      <th>G-TP</th>\n",
       "      <th>G+A-TP</th>\n",
       "      <th>xG</th>\n",
       "      <th>xAG</th>\n",
       "      <th>xG+xAG</th>\n",
       "      <th>npxG</th>\n",
       "      <th>npxG+xAG</th>\n",
       "      <th>Partidos</th>\n",
       "    </tr>\n",
       "  </thead>\n",
       "  <tbody>\n",
       "    <tr>\n",
       "      <th>0</th>\n",
       "      <td>1</td>\n",
       "      <td>Abner</td>\n",
       "      <td>br BRA</td>\n",
       "      <td>DF</td>\n",
       "      <td>Betis</td>\n",
       "      <td>23-187</td>\n",
       "      <td>2000</td>\n",
       "      <td>9</td>\n",
       "      <td>5</td>\n",
       "      <td>522</td>\n",
       "      <td>...</td>\n",
       "      <td>0.00</td>\n",
       "      <td>0.00</td>\n",
       "      <td>0.00</td>\n",
       "      <td>0.00</td>\n",
       "      <td>0.01</td>\n",
       "      <td>0.06</td>\n",
       "      <td>0.07</td>\n",
       "      <td>0.01</td>\n",
       "      <td>0.07</td>\n",
       "      <td>Partidos</td>\n",
       "    </tr>\n",
       "    <tr>\n",
       "      <th>1</th>\n",
       "      <td>2</td>\n",
       "      <td>Abdel Abqar</td>\n",
       "      <td>ma MAR</td>\n",
       "      <td>DF</td>\n",
       "      <td>Alavés</td>\n",
       "      <td>24-265</td>\n",
       "      <td>1999</td>\n",
       "      <td>11</td>\n",
       "      <td>11</td>\n",
       "      <td>989</td>\n",
       "      <td>...</td>\n",
       "      <td>0.00</td>\n",
       "      <td>0.00</td>\n",
       "      <td>0.00</td>\n",
       "      <td>0.00</td>\n",
       "      <td>0.02</td>\n",
       "      <td>0.00</td>\n",
       "      <td>0.02</td>\n",
       "      <td>0.02</td>\n",
       "      <td>0.02</td>\n",
       "      <td>Partidos</td>\n",
       "    </tr>\n",
       "    <tr>\n",
       "      <th>2</th>\n",
       "      <td>3</td>\n",
       "      <td>Marcos Acuña</td>\n",
       "      <td>ar ARG</td>\n",
       "      <td>DF</td>\n",
       "      <td>Sevilla</td>\n",
       "      <td>32-033</td>\n",
       "      <td>1991</td>\n",
       "      <td>7</td>\n",
       "      <td>6</td>\n",
       "      <td>411</td>\n",
       "      <td>...</td>\n",
       "      <td>0.00</td>\n",
       "      <td>0.00</td>\n",
       "      <td>0.00</td>\n",
       "      <td>0.00</td>\n",
       "      <td>0.02</td>\n",
       "      <td>0.06</td>\n",
       "      <td>0.09</td>\n",
       "      <td>0.02</td>\n",
       "      <td>0.09</td>\n",
       "      <td>Partidos</td>\n",
       "    </tr>\n",
       "    <tr>\n",
       "      <th>3</th>\n",
       "      <td>4</td>\n",
       "      <td>Joseph Aidoo</td>\n",
       "      <td>gh GHA</td>\n",
       "      <td>DF</td>\n",
       "      <td>Celta Vigo</td>\n",
       "      <td>28-062</td>\n",
       "      <td>1995</td>\n",
       "      <td>6</td>\n",
       "      <td>4</td>\n",
       "      <td>407</td>\n",
       "      <td>...</td>\n",
       "      <td>0.00</td>\n",
       "      <td>0.00</td>\n",
       "      <td>0.00</td>\n",
       "      <td>0.00</td>\n",
       "      <td>0.02</td>\n",
       "      <td>0.01</td>\n",
       "      <td>0.04</td>\n",
       "      <td>0.02</td>\n",
       "      <td>0.04</td>\n",
       "      <td>Partidos</td>\n",
       "    </tr>\n",
       "    <tr>\n",
       "      <th>4</th>\n",
       "      <td>5</td>\n",
       "      <td>Ilias Akhomach</td>\n",
       "      <td>es ESP</td>\n",
       "      <td>CC,DL</td>\n",
       "      <td>Villarreal</td>\n",
       "      <td>19-228</td>\n",
       "      <td>2004</td>\n",
       "      <td>10</td>\n",
       "      <td>2</td>\n",
       "      <td>346</td>\n",
       "      <td>...</td>\n",
       "      <td>0.26</td>\n",
       "      <td>0.26</td>\n",
       "      <td>0.00</td>\n",
       "      <td>0.26</td>\n",
       "      <td>0.03</td>\n",
       "      <td>0.09</td>\n",
       "      <td>0.12</td>\n",
       "      <td>0.03</td>\n",
       "      <td>0.12</td>\n",
       "      <td>Partidos</td>\n",
       "    </tr>\n",
       "    <tr>\n",
       "      <th>...</th>\n",
       "      <td>...</td>\n",
       "      <td>...</td>\n",
       "      <td>...</td>\n",
       "      <td>...</td>\n",
       "      <td>...</td>\n",
       "      <td>...</td>\n",
       "      <td>...</td>\n",
       "      <td>...</td>\n",
       "      <td>...</td>\n",
       "      <td>...</td>\n",
       "      <td>...</td>\n",
       "      <td>...</td>\n",
       "      <td>...</td>\n",
       "      <td>...</td>\n",
       "      <td>...</td>\n",
       "      <td>...</td>\n",
       "      <td>...</td>\n",
       "      <td>...</td>\n",
       "      <td>...</td>\n",
       "      <td>...</td>\n",
       "      <td>...</td>\n",
       "    </tr>\n",
       "    <tr>\n",
       "      <th>502</th>\n",
       "      <td>484</td>\n",
       "      <td>Arsen Zakharyan</td>\n",
       "      <td>ru RUS</td>\n",
       "      <td>CC,DL</td>\n",
       "      <td>Real Sociedad</td>\n",
       "      <td>20-188</td>\n",
       "      <td>2003</td>\n",
       "      <td>8</td>\n",
       "      <td>2</td>\n",
       "      <td>207</td>\n",
       "      <td>...</td>\n",
       "      <td>0.00</td>\n",
       "      <td>0.00</td>\n",
       "      <td>0.00</td>\n",
       "      <td>0.00</td>\n",
       "      <td>0.06</td>\n",
       "      <td>0.17</td>\n",
       "      <td>0.23</td>\n",
       "      <td>0.06</td>\n",
       "      <td>0.23</td>\n",
       "      <td>Partidos</td>\n",
       "    </tr>\n",
       "    <tr>\n",
       "      <th>503</th>\n",
       "      <td>485</td>\n",
       "      <td>Joseba Zaldúa</td>\n",
       "      <td>es ESP</td>\n",
       "      <td>DF</td>\n",
       "      <td>Cádiz</td>\n",
       "      <td>31-159</td>\n",
       "      <td>1992</td>\n",
       "      <td>3</td>\n",
       "      <td>2</td>\n",
       "      <td>176</td>\n",
       "      <td>...</td>\n",
       "      <td>0.00</td>\n",
       "      <td>0.00</td>\n",
       "      <td>0.00</td>\n",
       "      <td>0.00</td>\n",
       "      <td>0.00</td>\n",
       "      <td>0.00</td>\n",
       "      <td>0.00</td>\n",
       "      <td>0.00</td>\n",
       "      <td>0.00</td>\n",
       "      <td>Partidos</td>\n",
       "    </tr>\n",
       "    <tr>\n",
       "      <th>504</th>\n",
       "      <td>486</td>\n",
       "      <td>Bryan Zaragoza</td>\n",
       "      <td>es ESP</td>\n",
       "      <td>CC,DL</td>\n",
       "      <td>Granada</td>\n",
       "      <td>22-219</td>\n",
       "      <td>2001</td>\n",
       "      <td>13</td>\n",
       "      <td>10</td>\n",
       "      <td>937</td>\n",
       "      <td>...</td>\n",
       "      <td>0.19</td>\n",
       "      <td>0.67</td>\n",
       "      <td>0.38</td>\n",
       "      <td>0.58</td>\n",
       "      <td>0.26</td>\n",
       "      <td>0.19</td>\n",
       "      <td>0.45</td>\n",
       "      <td>0.19</td>\n",
       "      <td>0.38</td>\n",
       "      <td>Partidos</td>\n",
       "    </tr>\n",
       "    <tr>\n",
       "      <th>505</th>\n",
       "      <td>487</td>\n",
       "      <td>Igor Zubeldia</td>\n",
       "      <td>es ESP</td>\n",
       "      <td>DF</td>\n",
       "      <td>Real Sociedad</td>\n",
       "      <td>26-245</td>\n",
       "      <td>1997</td>\n",
       "      <td>13</td>\n",
       "      <td>12</td>\n",
       "      <td>1081</td>\n",
       "      <td>...</td>\n",
       "      <td>0.00</td>\n",
       "      <td>0.00</td>\n",
       "      <td>0.00</td>\n",
       "      <td>0.00</td>\n",
       "      <td>0.02</td>\n",
       "      <td>0.05</td>\n",
       "      <td>0.06</td>\n",
       "      <td>0.02</td>\n",
       "      <td>0.06</td>\n",
       "      <td>Partidos</td>\n",
       "    </tr>\n",
       "    <tr>\n",
       "      <th>506</th>\n",
       "      <td>488</td>\n",
       "      <td>Martín Zubimendi</td>\n",
       "      <td>es ESP</td>\n",
       "      <td>CC</td>\n",
       "      <td>Real Sociedad</td>\n",
       "      <td>24-301</td>\n",
       "      <td>1999</td>\n",
       "      <td>14</td>\n",
       "      <td>12</td>\n",
       "      <td>1158</td>\n",
       "      <td>...</td>\n",
       "      <td>0.08</td>\n",
       "      <td>0.23</td>\n",
       "      <td>0.16</td>\n",
       "      <td>0.23</td>\n",
       "      <td>0.10</td>\n",
       "      <td>0.08</td>\n",
       "      <td>0.17</td>\n",
       "      <td>0.10</td>\n",
       "      <td>0.17</td>\n",
       "      <td>Partidos</td>\n",
       "    </tr>\n",
       "  </tbody>\n",
       "</table>\n",
       "<p>507 rows × 37 columns</p>\n",
       "</div>"
      ],
      "text/plain": [
       "    Unnamed: 0_level_0 Unnamed: 1_level_0 Unnamed: 2_level_0  \\\n",
       "                    RL            Jugador               País   \n",
       "0                    1              Abner             br BRA   \n",
       "1                    2        Abdel Abqar             ma MAR   \n",
       "2                    3       Marcos Acuña             ar ARG   \n",
       "3                    4       Joseph Aidoo             gh GHA   \n",
       "4                    5     Ilias Akhomach             es ESP   \n",
       "..                 ...                ...                ...   \n",
       "502                484    Arsen Zakharyan             ru RUS   \n",
       "503                485      Joseba Zaldúa             es ESP   \n",
       "504                486     Bryan Zaragoza             es ESP   \n",
       "505                487      Igor Zubeldia             es ESP   \n",
       "506                488   Martín Zubimendi             es ESP   \n",
       "\n",
       "    Unnamed: 3_level_0 Unnamed: 4_level_0 Unnamed: 5_level_0  \\\n",
       "                  Posc             Equipo               Edad   \n",
       "0                   DF              Betis             23-187   \n",
       "1                   DF             Alavés             24-265   \n",
       "2                   DF            Sevilla             32-033   \n",
       "3                   DF         Celta Vigo             28-062   \n",
       "4                CC,DL         Villarreal             19-228   \n",
       "..                 ...                ...                ...   \n",
       "502              CC,DL      Real Sociedad             20-188   \n",
       "503                 DF              Cádiz             31-159   \n",
       "504              CC,DL            Granada             22-219   \n",
       "505                 DF      Real Sociedad             26-245   \n",
       "506                 CC      Real Sociedad             24-301   \n",
       "\n",
       "    Unnamed: 6_level_0 Tiempo Jugado                ... Por 90 Minutos        \\\n",
       "            Nacimiento            PJ Titular   Mín  ...            Ast   G+A   \n",
       "0                 2000             9       5   522  ...           0.00  0.00   \n",
       "1                 1999            11      11   989  ...           0.00  0.00   \n",
       "2                 1991             7       6   411  ...           0.00  0.00   \n",
       "3                 1995             6       4   407  ...           0.00  0.00   \n",
       "4                 2004            10       2   346  ...           0.26  0.26   \n",
       "..                 ...           ...     ...   ...  ...            ...   ...   \n",
       "502               2003             8       2   207  ...           0.00  0.00   \n",
       "503               1992             3       2   176  ...           0.00  0.00   \n",
       "504               2001            13      10   937  ...           0.19  0.67   \n",
       "505               1997            13      12  1081  ...           0.00  0.00   \n",
       "506               1999            14      12  1158  ...           0.08  0.23   \n",
       "\n",
       "                                                   Unnamed: 36_level_0  \n",
       "     G-TP G+A-TP    xG   xAG xG+xAG  npxG npxG+xAG            Partidos  \n",
       "0    0.00   0.00  0.01  0.06   0.07  0.01     0.07            Partidos  \n",
       "1    0.00   0.00  0.02  0.00   0.02  0.02     0.02            Partidos  \n",
       "2    0.00   0.00  0.02  0.06   0.09  0.02     0.09            Partidos  \n",
       "3    0.00   0.00  0.02  0.01   0.04  0.02     0.04            Partidos  \n",
       "4    0.00   0.26  0.03  0.09   0.12  0.03     0.12            Partidos  \n",
       "..    ...    ...   ...   ...    ...   ...      ...                 ...  \n",
       "502  0.00   0.00  0.06  0.17   0.23  0.06     0.23            Partidos  \n",
       "503  0.00   0.00  0.00  0.00   0.00  0.00     0.00            Partidos  \n",
       "504  0.38   0.58  0.26  0.19   0.45  0.19     0.38            Partidos  \n",
       "505  0.00   0.00  0.02  0.05   0.06  0.02     0.06            Partidos  \n",
       "506  0.16   0.23  0.10  0.08   0.17  0.10     0.17            Partidos  \n",
       "\n",
       "[507 rows x 37 columns]"
      ]
     },
     "execution_count": 9,
     "metadata": {},
     "output_type": "execute_result"
    }
   ],
   "source": [
    "tdf = pd.read_html(str(tables[11]))\n",
    "jugadores_2023 = pd.concat(tdf)\n",
    "jugadores_2023"
   ]
  },
  {
   "cell_type": "code",
   "execution_count": 10,
   "metadata": {},
   "outputs": [],
   "source": [
    "driver.quit()"
   ]
  },
  {
   "cell_type": "code",
   "execution_count": 11,
   "metadata": {},
   "outputs": [],
   "source": [
    "#Borro el primer nivel de columnas\n",
    "jugadores_2023.columns = jugadores_2023.columns.droplevel(0)"
   ]
  },
  {
   "cell_type": "markdown",
   "metadata": {},
   "source": [
    "# Scrapeo temporada 2022"
   ]
  },
  {
   "cell_type": "code",
   "execution_count": 12,
   "metadata": {},
   "outputs": [],
   "source": [
    "#Repito procedimiento de 2023\n",
    "url2 = 'https://fbref.com/es/comps/12/2022-2023/stats/Estadisticas-2022-2023-La-Liga'\n",
    "\n",
    "PATH = 'driver/chromedriver.exe'"
   ]
  },
  {
   "cell_type": "code",
   "execution_count": 13,
   "metadata": {},
   "outputs": [],
   "source": [
    "driver = webdriver.Chrome(PATH, options=options)\n",
    "\n",
    "driver.get(url2)"
   ]
  },
  {
   "cell_type": "code",
   "execution_count": 14,
   "metadata": {},
   "outputs": [],
   "source": [
    "html2 = driver.page_source"
   ]
  },
  {
   "cell_type": "code",
   "execution_count": 15,
   "metadata": {},
   "outputs": [],
   "source": [
    "soup2 = bs(html2, 'html.parser')"
   ]
  },
  {
   "cell_type": "code",
   "execution_count": 16,
   "metadata": {},
   "outputs": [],
   "source": [
    "tables_2022 = soup2.find_all('table')"
   ]
  },
  {
   "cell_type": "code",
   "execution_count": 17,
   "metadata": {},
   "outputs": [
    {
     "data": {
      "text/plain": [
       "12"
      ]
     },
     "execution_count": 17,
     "metadata": {},
     "output_type": "execute_result"
    }
   ],
   "source": [
    "len(tables_2022)"
   ]
  },
  {
   "cell_type": "code",
   "execution_count": 18,
   "metadata": {},
   "outputs": [],
   "source": [
    "tdf2 = pd.read_html(str(tables_2022[11]))\n",
    "jugadores_2022 = pd.concat(tdf2)"
   ]
  },
  {
   "cell_type": "code",
   "execution_count": 19,
   "metadata": {},
   "outputs": [],
   "source": [
    "#Borro el primer nivel de columnas\n",
    "jugadores_2022.columns = jugadores_2022.columns.droplevel(0)"
   ]
  },
  {
   "cell_type": "markdown",
   "metadata": {},
   "source": [
    "# Scrapeo jugadores 2021"
   ]
  },
  {
   "cell_type": "code",
   "execution_count": 23,
   "metadata": {},
   "outputs": [],
   "source": [
    "url3 = 'https://fbref.com/es/comps/12/2021-2022/stats/Estadisticas-2021-2022-La-Liga'\n",
    "\n",
    "PATH = 'driver/chromedriver.exe'"
   ]
  },
  {
   "cell_type": "code",
   "execution_count": 24,
   "metadata": {},
   "outputs": [],
   "source": [
    "driver = webdriver.Chrome(PATH, options=options)\n",
    "\n",
    "driver.get(url3)"
   ]
  },
  {
   "cell_type": "code",
   "execution_count": 25,
   "metadata": {},
   "outputs": [],
   "source": [
    "html3 = driver.page_source"
   ]
  },
  {
   "cell_type": "code",
   "execution_count": 26,
   "metadata": {},
   "outputs": [],
   "source": [
    "soup3 = bs(html3, 'html.parser')"
   ]
  },
  {
   "cell_type": "code",
   "execution_count": 27,
   "metadata": {},
   "outputs": [],
   "source": [
    "tables_2021 = soup3.find_all('table')"
   ]
  },
  {
   "cell_type": "code",
   "execution_count": 28,
   "metadata": {},
   "outputs": [
    {
     "data": {
      "text/plain": [
       "12"
      ]
     },
     "execution_count": 28,
     "metadata": {},
     "output_type": "execute_result"
    }
   ],
   "source": [
    "len(tables_2021)"
   ]
  },
  {
   "cell_type": "code",
   "execution_count": 29,
   "metadata": {},
   "outputs": [],
   "source": [
    "tdf3 = pd.read_html(str(tables_2021[11]))\n",
    "jugadores_2021 = pd.concat(tdf3)"
   ]
  },
  {
   "cell_type": "code",
   "execution_count": 30,
   "metadata": {},
   "outputs": [
    {
     "data": {
      "text/html": [
       "<div>\n",
       "<style scoped>\n",
       "    .dataframe tbody tr th:only-of-type {\n",
       "        vertical-align: middle;\n",
       "    }\n",
       "\n",
       "    .dataframe tbody tr th {\n",
       "        vertical-align: top;\n",
       "    }\n",
       "\n",
       "    .dataframe thead tr th {\n",
       "        text-align: left;\n",
       "    }\n",
       "</style>\n",
       "<table border=\"1\" class=\"dataframe\">\n",
       "  <thead>\n",
       "    <tr>\n",
       "      <th></th>\n",
       "      <th>Unnamed: 0_level_0</th>\n",
       "      <th>Unnamed: 1_level_0</th>\n",
       "      <th>Unnamed: 2_level_0</th>\n",
       "      <th>Unnamed: 3_level_0</th>\n",
       "      <th>Unnamed: 4_level_0</th>\n",
       "      <th>Unnamed: 5_level_0</th>\n",
       "      <th>Unnamed: 6_level_0</th>\n",
       "      <th colspan=\"3\" halign=\"left\">Tiempo Jugado</th>\n",
       "      <th>...</th>\n",
       "      <th colspan=\"9\" halign=\"left\">Por 90 Minutos</th>\n",
       "      <th>Unnamed: 36_level_0</th>\n",
       "    </tr>\n",
       "    <tr>\n",
       "      <th></th>\n",
       "      <th>RL</th>\n",
       "      <th>Jugador</th>\n",
       "      <th>País</th>\n",
       "      <th>Posc</th>\n",
       "      <th>Equipo</th>\n",
       "      <th>Edad</th>\n",
       "      <th>Nacimiento</th>\n",
       "      <th>PJ</th>\n",
       "      <th>Titular</th>\n",
       "      <th>Mín</th>\n",
       "      <th>...</th>\n",
       "      <th>Ast</th>\n",
       "      <th>G+A</th>\n",
       "      <th>G-TP</th>\n",
       "      <th>G+A-TP</th>\n",
       "      <th>xG</th>\n",
       "      <th>xAG</th>\n",
       "      <th>xG+xAG</th>\n",
       "      <th>npxG</th>\n",
       "      <th>npxG+xAG</th>\n",
       "      <th>Partidos</th>\n",
       "    </tr>\n",
       "  </thead>\n",
       "  <tbody>\n",
       "    <tr>\n",
       "      <th>0</th>\n",
       "      <td>1</td>\n",
       "      <td>Luis Abram</td>\n",
       "      <td>pe PER</td>\n",
       "      <td>DF</td>\n",
       "      <td>Granada</td>\n",
       "      <td>25</td>\n",
       "      <td>1996</td>\n",
       "      <td>8</td>\n",
       "      <td>6</td>\n",
       "      <td>560</td>\n",
       "      <td>...</td>\n",
       "      <td>0.00</td>\n",
       "      <td>0.00</td>\n",
       "      <td>0.00</td>\n",
       "      <td>0.00</td>\n",
       "      <td>0.05</td>\n",
       "      <td>0.00</td>\n",
       "      <td>0.05</td>\n",
       "      <td>0.05</td>\n",
       "      <td>0.05</td>\n",
       "      <td>Partidos</td>\n",
       "    </tr>\n",
       "    <tr>\n",
       "      <th>1</th>\n",
       "      <td>2</td>\n",
       "      <td>Marcos Acuña</td>\n",
       "      <td>ar ARG</td>\n",
       "      <td>DF</td>\n",
       "      <td>Sevilla</td>\n",
       "      <td>29</td>\n",
       "      <td>1991</td>\n",
       "      <td>31</td>\n",
       "      <td>26</td>\n",
       "      <td>2260</td>\n",
       "      <td>...</td>\n",
       "      <td>0.12</td>\n",
       "      <td>0.16</td>\n",
       "      <td>0.04</td>\n",
       "      <td>0.16</td>\n",
       "      <td>0.05</td>\n",
       "      <td>0.11</td>\n",
       "      <td>0.16</td>\n",
       "      <td>0.05</td>\n",
       "      <td>0.16</td>\n",
       "      <td>Partidos</td>\n",
       "    </tr>\n",
       "    <tr>\n",
       "      <th>2</th>\n",
       "      <td>3</td>\n",
       "      <td>Martin Agirregabiria</td>\n",
       "      <td>es ESP</td>\n",
       "      <td>DF</td>\n",
       "      <td>Alavés</td>\n",
       "      <td>25</td>\n",
       "      <td>1996</td>\n",
       "      <td>24</td>\n",
       "      <td>17</td>\n",
       "      <td>1616</td>\n",
       "      <td>...</td>\n",
       "      <td>0.06</td>\n",
       "      <td>0.06</td>\n",
       "      <td>0.00</td>\n",
       "      <td>0.06</td>\n",
       "      <td>0.01</td>\n",
       "      <td>0.04</td>\n",
       "      <td>0.05</td>\n",
       "      <td>0.01</td>\n",
       "      <td>0.05</td>\n",
       "      <td>Partidos</td>\n",
       "    </tr>\n",
       "    <tr>\n",
       "      <th>3</th>\n",
       "      <td>4</td>\n",
       "      <td>Julen Agirrezabala</td>\n",
       "      <td>es ESP</td>\n",
       "      <td>PO</td>\n",
       "      <td>Athletic Club</td>\n",
       "      <td>20</td>\n",
       "      <td>2000</td>\n",
       "      <td>4</td>\n",
       "      <td>4</td>\n",
       "      <td>360</td>\n",
       "      <td>...</td>\n",
       "      <td>0.00</td>\n",
       "      <td>0.00</td>\n",
       "      <td>0.00</td>\n",
       "      <td>0.00</td>\n",
       "      <td>0.00</td>\n",
       "      <td>0.00</td>\n",
       "      <td>0.00</td>\n",
       "      <td>0.00</td>\n",
       "      <td>0.00</td>\n",
       "      <td>Partidos</td>\n",
       "    </tr>\n",
       "    <tr>\n",
       "      <th>4</th>\n",
       "      <td>5</td>\n",
       "      <td>Sergio Agüero</td>\n",
       "      <td>ar ARG</td>\n",
       "      <td>DL</td>\n",
       "      <td>Barcelona</td>\n",
       "      <td>33</td>\n",
       "      <td>1988</td>\n",
       "      <td>4</td>\n",
       "      <td>2</td>\n",
       "      <td>151</td>\n",
       "      <td>...</td>\n",
       "      <td>0.00</td>\n",
       "      <td>0.60</td>\n",
       "      <td>0.60</td>\n",
       "      <td>0.60</td>\n",
       "      <td>0.61</td>\n",
       "      <td>0.07</td>\n",
       "      <td>0.68</td>\n",
       "      <td>0.61</td>\n",
       "      <td>0.68</td>\n",
       "      <td>Partidos</td>\n",
       "    </tr>\n",
       "    <tr>\n",
       "      <th>...</th>\n",
       "      <td>...</td>\n",
       "      <td>...</td>\n",
       "      <td>...</td>\n",
       "      <td>...</td>\n",
       "      <td>...</td>\n",
       "      <td>...</td>\n",
       "      <td>...</td>\n",
       "      <td>...</td>\n",
       "      <td>...</td>\n",
       "      <td>...</td>\n",
       "      <td>...</td>\n",
       "      <td>...</td>\n",
       "      <td>...</td>\n",
       "      <td>...</td>\n",
       "      <td>...</td>\n",
       "      <td>...</td>\n",
       "      <td>...</td>\n",
       "      <td>...</td>\n",
       "      <td>...</td>\n",
       "      <td>...</td>\n",
       "      <td>...</td>\n",
       "    </tr>\n",
       "    <tr>\n",
       "      <th>635</th>\n",
       "      <td>612</td>\n",
       "      <td>Luca Zidane</td>\n",
       "      <td>fr FRA</td>\n",
       "      <td>PO</td>\n",
       "      <td>Rayo Vallecano</td>\n",
       "      <td>23</td>\n",
       "      <td>1998</td>\n",
       "      <td>8</td>\n",
       "      <td>8</td>\n",
       "      <td>645</td>\n",
       "      <td>...</td>\n",
       "      <td>0.00</td>\n",
       "      <td>0.00</td>\n",
       "      <td>0.00</td>\n",
       "      <td>0.00</td>\n",
       "      <td>0.00</td>\n",
       "      <td>0.00</td>\n",
       "      <td>0.00</td>\n",
       "      <td>0.00</td>\n",
       "      <td>0.00</td>\n",
       "      <td>Partidos</td>\n",
       "    </tr>\n",
       "    <tr>\n",
       "      <th>636</th>\n",
       "      <td>613</td>\n",
       "      <td>Igor Zubeldia</td>\n",
       "      <td>es ESP</td>\n",
       "      <td>DF</td>\n",
       "      <td>Real Sociedad</td>\n",
       "      <td>24</td>\n",
       "      <td>1997</td>\n",
       "      <td>26</td>\n",
       "      <td>19</td>\n",
       "      <td>1648</td>\n",
       "      <td>...</td>\n",
       "      <td>0.05</td>\n",
       "      <td>0.05</td>\n",
       "      <td>0.00</td>\n",
       "      <td>0.05</td>\n",
       "      <td>0.03</td>\n",
       "      <td>0.05</td>\n",
       "      <td>0.09</td>\n",
       "      <td>0.03</td>\n",
       "      <td>0.09</td>\n",
       "      <td>Partidos</td>\n",
       "    </tr>\n",
       "    <tr>\n",
       "      <th>637</th>\n",
       "      <td>614</td>\n",
       "      <td>Martín Zubimendi</td>\n",
       "      <td>es ESP</td>\n",
       "      <td>CC</td>\n",
       "      <td>Real Sociedad</td>\n",
       "      <td>22</td>\n",
       "      <td>1999</td>\n",
       "      <td>36</td>\n",
       "      <td>26</td>\n",
       "      <td>2591</td>\n",
       "      <td>...</td>\n",
       "      <td>0.03</td>\n",
       "      <td>0.10</td>\n",
       "      <td>0.07</td>\n",
       "      <td>0.10</td>\n",
       "      <td>0.08</td>\n",
       "      <td>0.02</td>\n",
       "      <td>0.10</td>\n",
       "      <td>0.08</td>\n",
       "      <td>0.10</td>\n",
       "      <td>Partidos</td>\n",
       "    </tr>\n",
       "    <tr>\n",
       "      <th>638</th>\n",
       "      <td>615</td>\n",
       "      <td>Blanco</td>\n",
       "      <td>NaN</td>\n",
       "      <td>CC</td>\n",
       "      <td>Real Madrid</td>\n",
       "      <td>21</td>\n",
       "      <td>2000</td>\n",
       "      <td>1</td>\n",
       "      <td>0</td>\n",
       "      <td>31</td>\n",
       "      <td>...</td>\n",
       "      <td>0.00</td>\n",
       "      <td>0.00</td>\n",
       "      <td>0.00</td>\n",
       "      <td>0.00</td>\n",
       "      <td>NaN</td>\n",
       "      <td>NaN</td>\n",
       "      <td>NaN</td>\n",
       "      <td>NaN</td>\n",
       "      <td>NaN</td>\n",
       "      <td>Partidos</td>\n",
       "    </tr>\n",
       "    <tr>\n",
       "      <th>639</th>\n",
       "      <td>616</td>\n",
       "      <td>Hugo Guillamón</td>\n",
       "      <td>NaN</td>\n",
       "      <td>DF,CC</td>\n",
       "      <td>Valencia</td>\n",
       "      <td>21</td>\n",
       "      <td>2000</td>\n",
       "      <td>31</td>\n",
       "      <td>28</td>\n",
       "      <td>2361</td>\n",
       "      <td>...</td>\n",
       "      <td>0.00</td>\n",
       "      <td>0.04</td>\n",
       "      <td>0.04</td>\n",
       "      <td>0.04</td>\n",
       "      <td>NaN</td>\n",
       "      <td>NaN</td>\n",
       "      <td>NaN</td>\n",
       "      <td>NaN</td>\n",
       "      <td>NaN</td>\n",
       "      <td>Partidos</td>\n",
       "    </tr>\n",
       "  </tbody>\n",
       "</table>\n",
       "<p>640 rows × 37 columns</p>\n",
       "</div>"
      ],
      "text/plain": [
       "    Unnamed: 0_level_0    Unnamed: 1_level_0 Unnamed: 2_level_0  \\\n",
       "                    RL               Jugador               País   \n",
       "0                    1            Luis Abram             pe PER   \n",
       "1                    2          Marcos Acuña             ar ARG   \n",
       "2                    3  Martin Agirregabiria             es ESP   \n",
       "3                    4    Julen Agirrezabala             es ESP   \n",
       "4                    5         Sergio Agüero             ar ARG   \n",
       "..                 ...                   ...                ...   \n",
       "635                612           Luca Zidane             fr FRA   \n",
       "636                613         Igor Zubeldia             es ESP   \n",
       "637                614      Martín Zubimendi             es ESP   \n",
       "638                615                Blanco                NaN   \n",
       "639                616        Hugo Guillamón                NaN   \n",
       "\n",
       "    Unnamed: 3_level_0 Unnamed: 4_level_0 Unnamed: 5_level_0  \\\n",
       "                  Posc             Equipo               Edad   \n",
       "0                   DF            Granada                 25   \n",
       "1                   DF            Sevilla                 29   \n",
       "2                   DF             Alavés                 25   \n",
       "3                   PO      Athletic Club                 20   \n",
       "4                   DL          Barcelona                 33   \n",
       "..                 ...                ...                ...   \n",
       "635                 PO     Rayo Vallecano                 23   \n",
       "636                 DF      Real Sociedad                 24   \n",
       "637                 CC      Real Sociedad                 22   \n",
       "638                 CC        Real Madrid                 21   \n",
       "639              DF,CC           Valencia                 21   \n",
       "\n",
       "    Unnamed: 6_level_0 Tiempo Jugado                ... Por 90 Minutos        \\\n",
       "            Nacimiento            PJ Titular   Mín  ...            Ast   G+A   \n",
       "0                 1996             8       6   560  ...           0.00  0.00   \n",
       "1                 1991            31      26  2260  ...           0.12  0.16   \n",
       "2                 1996            24      17  1616  ...           0.06  0.06   \n",
       "3                 2000             4       4   360  ...           0.00  0.00   \n",
       "4                 1988             4       2   151  ...           0.00  0.60   \n",
       "..                 ...           ...     ...   ...  ...            ...   ...   \n",
       "635               1998             8       8   645  ...           0.00  0.00   \n",
       "636               1997            26      19  1648  ...           0.05  0.05   \n",
       "637               1999            36      26  2591  ...           0.03  0.10   \n",
       "638               2000             1       0    31  ...           0.00  0.00   \n",
       "639               2000            31      28  2361  ...           0.00  0.04   \n",
       "\n",
       "                                                   Unnamed: 36_level_0  \n",
       "     G-TP G+A-TP    xG   xAG xG+xAG  npxG npxG+xAG            Partidos  \n",
       "0    0.00   0.00  0.05  0.00   0.05  0.05     0.05            Partidos  \n",
       "1    0.04   0.16  0.05  0.11   0.16  0.05     0.16            Partidos  \n",
       "2    0.00   0.06  0.01  0.04   0.05  0.01     0.05            Partidos  \n",
       "3    0.00   0.00  0.00  0.00   0.00  0.00     0.00            Partidos  \n",
       "4    0.60   0.60  0.61  0.07   0.68  0.61     0.68            Partidos  \n",
       "..    ...    ...   ...   ...    ...   ...      ...                 ...  \n",
       "635  0.00   0.00  0.00  0.00   0.00  0.00     0.00            Partidos  \n",
       "636  0.00   0.05  0.03  0.05   0.09  0.03     0.09            Partidos  \n",
       "637  0.07   0.10  0.08  0.02   0.10  0.08     0.10            Partidos  \n",
       "638  0.00   0.00   NaN   NaN    NaN   NaN      NaN            Partidos  \n",
       "639  0.04   0.04   NaN   NaN    NaN   NaN      NaN            Partidos  \n",
       "\n",
       "[640 rows x 37 columns]"
      ]
     },
     "execution_count": 30,
     "metadata": {},
     "output_type": "execute_result"
    }
   ],
   "source": [
    "jugadores_2021"
   ]
  },
  {
   "cell_type": "code",
   "execution_count": 31,
   "metadata": {},
   "outputs": [],
   "source": [
    "#Borro el primer nivel de columnas\n",
    "jugadores_2021.columns = jugadores_2021.columns.droplevel(0)"
   ]
  },
  {
   "cell_type": "markdown",
   "metadata": {},
   "source": [
    "# Scrapeo temporada 2020"
   ]
  },
  {
   "cell_type": "code",
   "execution_count": 35,
   "metadata": {},
   "outputs": [],
   "source": [
    "url4 = 'https://fbref.com/es/comps/12/2020-2021/stats/Estadisticas-2020-2021-La-Liga'\n",
    "\n",
    "PATH = 'driver/chromedriver.exe'"
   ]
  },
  {
   "cell_type": "code",
   "execution_count": 36,
   "metadata": {},
   "outputs": [],
   "source": [
    "driver = webdriver.Chrome(PATH, options=options)\n",
    "\n",
    "driver.get(url4)"
   ]
  },
  {
   "cell_type": "code",
   "execution_count": 37,
   "metadata": {},
   "outputs": [],
   "source": [
    "html4 = driver.page_source"
   ]
  },
  {
   "cell_type": "code",
   "execution_count": 38,
   "metadata": {},
   "outputs": [],
   "source": [
    "soup4 = bs(html4, 'html.parser')"
   ]
  },
  {
   "cell_type": "code",
   "execution_count": 39,
   "metadata": {},
   "outputs": [],
   "source": [
    "tables_2020 = soup4.find_all('table')"
   ]
  },
  {
   "cell_type": "code",
   "execution_count": 40,
   "metadata": {},
   "outputs": [
    {
     "data": {
      "text/plain": [
       "12"
      ]
     },
     "execution_count": 40,
     "metadata": {},
     "output_type": "execute_result"
    }
   ],
   "source": [
    "len(tables_2020)"
   ]
  },
  {
   "cell_type": "code",
   "execution_count": 41,
   "metadata": {},
   "outputs": [],
   "source": [
    "tdf4 = pd.read_html(str(tables_2020[11]))\n",
    "jugadores_2020 = pd.concat(tdf4)"
   ]
  },
  {
   "cell_type": "markdown",
   "metadata": {},
   "source": [
    "# Scrapeo temporada 2019"
   ]
  },
  {
   "cell_type": "code",
   "execution_count": 42,
   "metadata": {},
   "outputs": [],
   "source": [
    "url5 = 'https://fbref.com/es/comps/12/2019-2020/stats/Estadisticas-2019-2020-La-Liga'\n",
    "\n",
    "PATH = 'driver/chromedriver.exe'"
   ]
  },
  {
   "cell_type": "code",
   "execution_count": 43,
   "metadata": {},
   "outputs": [],
   "source": [
    "driver = webdriver.Chrome(PATH, options=options)\n",
    "\n",
    "driver.get(url5)"
   ]
  },
  {
   "cell_type": "code",
   "execution_count": 44,
   "metadata": {},
   "outputs": [],
   "source": [
    "html5 = driver.page_source"
   ]
  },
  {
   "cell_type": "code",
   "execution_count": 45,
   "metadata": {},
   "outputs": [],
   "source": [
    "soup5 = bs(html5, 'html.parser')"
   ]
  },
  {
   "cell_type": "code",
   "execution_count": 46,
   "metadata": {},
   "outputs": [],
   "source": [
    "tables_2019 = soup5.find_all('table')"
   ]
  },
  {
   "cell_type": "code",
   "execution_count": 47,
   "metadata": {},
   "outputs": [
    {
     "data": {
      "text/plain": [
       "12"
      ]
     },
     "execution_count": 47,
     "metadata": {},
     "output_type": "execute_result"
    }
   ],
   "source": [
    "len(tables_2019)"
   ]
  },
  {
   "cell_type": "code",
   "execution_count": 48,
   "metadata": {},
   "outputs": [],
   "source": [
    "tdf5 = pd.read_html(str(tables_2019[11]))\n",
    "jugadores_2019 = pd.concat(tdf5)"
   ]
  },
  {
   "cell_type": "markdown",
   "metadata": {},
   "source": [
    "# Scrapeo temporada 2018"
   ]
  },
  {
   "cell_type": "code",
   "execution_count": 49,
   "metadata": {},
   "outputs": [],
   "source": [
    "url6 = 'https://fbref.com/es/comps/12/2018-2019/stats/Estadisticas-2018-2019-La-Liga'\n",
    "\n",
    "PATH = 'driver/chromedriver.exe'"
   ]
  },
  {
   "cell_type": "code",
   "execution_count": 50,
   "metadata": {},
   "outputs": [],
   "source": [
    "driver = webdriver.Chrome(PATH, options=options)\n",
    "\n",
    "driver.get(url6)"
   ]
  },
  {
   "cell_type": "code",
   "execution_count": 51,
   "metadata": {},
   "outputs": [],
   "source": [
    "html6 = driver.page_source"
   ]
  },
  {
   "cell_type": "code",
   "execution_count": 52,
   "metadata": {},
   "outputs": [],
   "source": [
    "soup6 = bs(html6, 'html.parser')"
   ]
  },
  {
   "cell_type": "code",
   "execution_count": 53,
   "metadata": {},
   "outputs": [],
   "source": [
    "tables_2018 = soup6.find_all('table')"
   ]
  },
  {
   "cell_type": "code",
   "execution_count": 54,
   "metadata": {},
   "outputs": [
    {
     "data": {
      "text/plain": [
       "12"
      ]
     },
     "execution_count": 54,
     "metadata": {},
     "output_type": "execute_result"
    }
   ],
   "source": [
    "len(tables_2018)"
   ]
  },
  {
   "cell_type": "code",
   "execution_count": 55,
   "metadata": {},
   "outputs": [],
   "source": [
    "tdf6 = pd.read_html(str(tables_2018[11]))\n",
    "jugadores_2018 = pd.concat(tdf6)"
   ]
  },
  {
   "cell_type": "markdown",
   "metadata": {},
   "source": [
    "# Scrapeo jugadores 2017"
   ]
  },
  {
   "cell_type": "code",
   "execution_count": 56,
   "metadata": {},
   "outputs": [],
   "source": [
    "url7 = 'https://fbref.com/es/comps/12/2017-2018/stats/Estadisticas-2017-2018-La-Liga'\n",
    "\n",
    "PATH = 'driver/chromedriver.exe'"
   ]
  },
  {
   "cell_type": "code",
   "execution_count": 57,
   "metadata": {},
   "outputs": [],
   "source": [
    "driver = webdriver.Chrome(PATH, options=options)\n",
    "\n",
    "driver.get(url7)"
   ]
  },
  {
   "cell_type": "code",
   "execution_count": 58,
   "metadata": {},
   "outputs": [],
   "source": [
    "html7 = driver.page_source"
   ]
  },
  {
   "cell_type": "code",
   "execution_count": 59,
   "metadata": {},
   "outputs": [],
   "source": [
    "soup7 = bs(html7, 'html.parser')"
   ]
  },
  {
   "cell_type": "code",
   "execution_count": 60,
   "metadata": {},
   "outputs": [],
   "source": [
    "tables_2017 = soup7.find_all('table')"
   ]
  },
  {
   "cell_type": "code",
   "execution_count": 61,
   "metadata": {},
   "outputs": [
    {
     "data": {
      "text/plain": [
       "12"
      ]
     },
     "execution_count": 61,
     "metadata": {},
     "output_type": "execute_result"
    }
   ],
   "source": [
    "len(tables_2017)"
   ]
  },
  {
   "cell_type": "code",
   "execution_count": 62,
   "metadata": {},
   "outputs": [],
   "source": [
    "tdf7 = pd.read_html(str(tables_2017[11]))\n",
    "jugadores_2017 = pd.concat(tdf7)"
   ]
  },
  {
   "cell_type": "markdown",
   "metadata": {},
   "source": [
    "## Exporto las temporadas"
   ]
  },
  {
   "cell_type": "code",
   "execution_count": 63,
   "metadata": {},
   "outputs": [],
   "source": [
    "jugadores_2023.to_csv('../../csv/csv_raw/jugadores_2023.csv', index=False)\n",
    "jugadores_2022.to_csv('../../csv/csv_raw/jugadores_2022.csv', index=False)\n",
    "jugadores_2021.to_csv('../../csv/csv_raw/jugadores_2021.csv', index=False)\n",
    "jugadores_2020.to_csv('../../csv/csv_raw/jugadores_2020.csv', index=False)\n",
    "jugadores_2019.to_csv('../../csv/csv_raw/jugadores_2019.csv', index=False)\n",
    "jugadores_2018.to_csv('../../csv/csv_raw/jugadores_2018.csv', index=False)\n",
    "jugadores_2017.to_csv('../../csv/csv_raw/jugadores_2017.csv', index=False)\n"
   ]
  },
  {
   "cell_type": "code",
   "execution_count": null,
   "metadata": {},
   "outputs": [],
   "source": []
  }
 ],
 "metadata": {
  "kernelspec": {
   "display_name": "base",
   "language": "python",
   "name": "python3"
  },
  "language_info": {
   "codemirror_mode": {
    "name": "ipython",
    "version": 3
   },
   "file_extension": ".py",
   "mimetype": "text/x-python",
   "name": "python",
   "nbconvert_exporter": "python",
   "pygments_lexer": "ipython3",
   "version": "3.10.9"
  }
 },
 "nbformat": 4,
 "nbformat_minor": 2
}
