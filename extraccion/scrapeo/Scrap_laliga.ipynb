{
 "cells": [
  {
   "cell_type": "markdown",
   "metadata": {},
   "source": [
    "# Scrap temporada 2023\n",
    "\n"
   ]
  },
  {
   "cell_type": "code",
   "execution_count": 1,
   "metadata": {},
   "outputs": [],
   "source": [
    "import pandas as pd\n",
    "\n",
    "from selenium import webdriver\n",
    "\n",
    "import warnings\n",
    "warnings.filterwarnings('ignore')\n",
    "\n",
    "from selenium.webdriver.common.by import By\n",
    "\n",
    "from selenium.webdriver.chrome.options import Options\n",
    "\n",
    "from selenium.webdriver.support.ui import WebDriverWait\n",
    "from selenium.webdriver.support import expected_conditions as EC\n",
    "from selenium.common.exceptions import NoSuchElementException, TimeoutException\n",
    "\n",
    "from bs4 import BeautifulSoup as bs\n",
    "import requests as req\n",
    "\n",
    "import time\n",
    "\n",
    "from funciones import *"
   ]
  },
  {
   "cell_type": "code",
   "execution_count": 2,
   "metadata": {},
   "outputs": [],
   "source": [
    "#Cookies \n",
    "options=Options()\n",
    "options.add_argument(r'user-data-dir=C:\\Users\\matia\\anaconda3\\Lib\\site-packages\\selenium\\cookies') #Cargamos las cookies"
   ]
  },
  {
   "cell_type": "markdown",
   "metadata": {},
   "source": [
    "# Hago una funcion para el resto de los anos\n",
    "\n"
   ]
  },
  {
   "cell_type": "code",
   "execution_count": 3,
   "metadata": {},
   "outputs": [],
   "source": [
    "#Scrapeo las temporadas 2017-2018, 2018-2019, 2019-2020, 2020-2021, 2021-2022\n",
    "temporadas = ['2017-2018', '2018-2019', '2019-2020', '2020-2021', '2021-2022', '2022-2023']\n",
    "jugadores_2018 = scrapeo_laliga( temporadas[0])\n",
    "jugadores_2019 = scrapeo_laliga(temporadas[1])\n",
    "jugadores_2020 = scrapeo_laliga(temporadas[2])\n",
    "jugadores_2021 = scrapeo_laliga(temporadas[3])\n",
    "jugadores_2022 = scrapeo_laliga(temporadas[4])\n",
    "jugadores_2023 = scrapeo_laliga(temporadas[5])\n"
   ]
  },
  {
   "cell_type": "code",
   "execution_count": 6,
   "metadata": {},
   "outputs": [],
   "source": [
    "# Agrego una columna nueva con la temporada para cada dataframe\n",
    "jugadores_2018['Temporada'] = temporadas[0]\n",
    "jugadores_2019['Temporada'] = temporadas[1]\n",
    "jugadores_2020['Temporada'] = temporadas[2]\n",
    "jugadores_2021['Temporada'] = temporadas[3]\n",
    "jugadores_2022['Temporada'] = temporadas[4]\n",
    "jugadores_2023['Temporada'] = temporadas[5]\n",
    "\n"
   ]
  },
  {
   "cell_type": "code",
   "execution_count": 7,
   "metadata": {},
   "outputs": [],
   "source": [
    "#Concateno todos los dataframes\n",
    "jugadores = pd.concat([jugadores_2018, jugadores_2019, jugadores_2020, jugadores_2021, jugadores_2022, jugadores_2023])"
   ]
  },
  {
   "cell_type": "markdown",
   "metadata": {},
   "source": [
    "## Exporto las temporadas"
   ]
  },
  {
   "cell_type": "code",
   "execution_count": 8,
   "metadata": {},
   "outputs": [],
   "source": [
    "jugadores.to_csv('../../csv/csv_raw/laliga.csv', index=False)\n"
   ]
  },
  {
   "cell_type": "code",
   "execution_count": null,
   "metadata": {},
   "outputs": [],
   "source": []
  }
 ],
 "metadata": {
  "kernelspec": {
   "display_name": "base",
   "language": "python",
   "name": "python3"
  },
  "language_info": {
   "codemirror_mode": {
    "name": "ipython",
    "version": 3
   },
   "file_extension": ".py",
   "mimetype": "text/x-python",
   "name": "python",
   "nbconvert_exporter": "python",
   "pygments_lexer": "ipython3",
   "version": "3.10.9"
  }
 },
 "nbformat": 4,
 "nbformat_minor": 2
}
