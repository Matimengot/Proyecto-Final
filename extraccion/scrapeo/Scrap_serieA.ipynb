{
 "cells": [
  {
   "cell_type": "code",
   "execution_count": 2,
   "metadata": {},
   "outputs": [],
   "source": [
    "import pandas as pd\n",
    "\n",
    "from selenium import webdriver\n",
    "\n",
    "import warnings\n",
    "warnings.filterwarnings('ignore')\n",
    "\n",
    "from selenium.webdriver.common.by import By\n",
    "\n",
    "from selenium.webdriver.chrome.options import Options\n",
    "\n",
    "from funciones import *"
   ]
  },
  {
   "cell_type": "markdown",
   "metadata": {},
   "source": [
    "# Uso la funcion creada y lo aplico a todas las temporadas que quiero\n"
   ]
  },
  {
   "cell_type": "code",
   "execution_count": 3,
   "metadata": {},
   "outputs": [],
   "source": [
    "#Scrapeo todas las temporadas usando la funcion de scrapeo\n",
    "temporadas = ['2017-2018', '2018-2019', '2019-2020', '2020-2021', '2021-2022', '2022-2023']\n",
    "\n",
    "jugadores_2018 = scrapeo_serieA( temporadas[0])\n",
    "jugadores_2019 = scrapeo_serieA( temporadas[1])\n",
    "jugadores_2020 = scrapeo_serieA( temporadas[2])\n",
    "jugadores_2021 = scrapeo_serieA( temporadas[3])\n",
    "jugadores_2022 = scrapeo_serieA( temporadas[4])\n",
    "jugadores_2023 = scrapeo_serieA( temporadas[5])\n",
    "\n"
   ]
  },
  {
   "cell_type": "code",
   "execution_count": 4,
   "metadata": {},
   "outputs": [],
   "source": [
    "# Creo un dataframe con todos los jugadores\n",
    "jugadores_serieA = pd.concat([jugadores_2018, jugadores_2019, jugadores_2020, jugadores_2021, jugadores_2022, jugadores_2023], axis=0)"
   ]
  },
  {
   "cell_type": "markdown",
   "metadata": {},
   "source": [
    "# Exporto los dataframes a CSV\n"
   ]
  },
  {
   "cell_type": "code",
   "execution_count": 5,
   "metadata": {},
   "outputs": [],
   "source": [
    "#Exporto a csv\n",
    "jugadores_serieA.to_csv('../../csv/csv_raw/serieA.csv', index=False)"
   ]
  },
  {
   "cell_type": "code",
   "execution_count": null,
   "metadata": {},
   "outputs": [],
   "source": []
  }
 ],
 "metadata": {
  "kernelspec": {
   "display_name": "base",
   "language": "python",
   "name": "python3"
  },
  "language_info": {
   "codemirror_mode": {
    "name": "ipython",
    "version": 3
   },
   "file_extension": ".py",
   "mimetype": "text/x-python",
   "name": "python",
   "nbconvert_exporter": "python",
   "pygments_lexer": "ipython3",
   "version": "3.10.9"
  }
 },
 "nbformat": 4,
 "nbformat_minor": 2
}
