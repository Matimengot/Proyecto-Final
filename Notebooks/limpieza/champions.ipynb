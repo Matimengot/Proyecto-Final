{
 "cells": [
  {
   "cell_type": "code",
   "execution_count": 1,
   "metadata": {},
   "outputs": [],
   "source": [
    "import pandas as pd\n",
    "import numpy as np"
   ]
  },
  {
   "cell_type": "code",
   "execution_count": 2,
   "metadata": {},
   "outputs": [],
   "source": [
    "tabla = pd.read_csv('../csv/csv_limpios/tabla_completa_lp.csv')"
   ]
  },
  {
   "cell_type": "code",
   "execution_count": 3,
   "metadata": {},
   "outputs": [
    {
     "data": {
      "text/plain": [
       "array(['Brighton', 'West Ham', 'Bologna', 'Arsenal', 'Juventus',\n",
       "       'Huddersfield', 'Manchester Utd', 'Granada', 'Celta Vigo',\n",
       "       'Alavés', 'Sampdoria', 'Osasuna', 'Sassuolo', 'Parma', 'Getafe',\n",
       "       'Rayo Vallecano', 'Everton', 'Genoa', 'Mallorca', 'Barcelona',\n",
       "       'Betis', 'Fulham', 'Inter', 'Benevento', 'Málaga', 'Southampton',\n",
       "       'Leeds United', 'Norwich City', 'Lazio', 'Udinese', 'Cagliari',\n",
       "       'Napoli', 'Bournemouth', 'Torino', 'Atalanta', 'Sevilla',\n",
       "       'Hellas Verona', 'Watford', 'Crotone', 'Espanyol', 'Huesca',\n",
       "       'Valencia', 'Athletic Club', 'Empoli', 'West Brom',\n",
       "       'Real Sociedad', 'Spezia', 'Roma', 'Fiorentina', 'Crystal Palace',\n",
       "       'Cremonese', 'Villarreal', 'Cádiz', 'Girona', 'La Coruña',\n",
       "       'Levante', 'Almería', 'Leicester City', 'Las Palmas', 'Milan',\n",
       "       'SPAL', 'Brescia', 'Lecce', 'Monza', \"Nott'ham Forest\",\n",
       "       'Liverpool', 'Leganés', 'Venezia', 'Newcastle Utd', 'Real Madrid',\n",
       "       'Eibar', 'Frosinone', 'Salernitana', 'Chievo', 'Atlético Madrid',\n",
       "       'Swansea City', 'Manchester City', 'Sheffield Utd', 'Valladolid',\n",
       "       'Chelsea', 'Cardiff City', 'Burnley', 'Elche', 'Stoke City',\n",
       "       'Tottenham', 'Brentford', 'Aston Villa', 'Wolves'], dtype=object)"
      ]
     },
     "execution_count": 3,
     "metadata": {},
     "output_type": "execute_result"
    }
   ],
   "source": [
    "tabla['Equipo'].unique()"
   ]
  },
  {
   "cell_type": "code",
   "execution_count": 17,
   "metadata": {},
   "outputs": [],
   "source": [
    "# Hago una lista con los equipos que participaron en la champions\n",
    "\n",
    "champions = [\"Real Madrid\", \"Barcelona\", \"Atlético Madrid\", \"Valencia\", \n",
    "    \"Sevilla\", \"Villarreal\", \"Manchester Utd\", \"Arsenal\", \n",
    "    \"Chelsea\", \"Liverpool FC\", \"Manchester City\", \"Tottenham\", \n",
    "    \"Milan\", \"Inter\", \"AS Roma\", \"Napoli\", \"Juventus\",\"Liverpool\" ]\n"
   ]
  },
  {
   "cell_type": "code",
   "execution_count": 18,
   "metadata": {},
   "outputs": [],
   "source": [
    "# Quito los equipos que participaron en la champions\n",
    "\n",
    "tabla2= tabla[~tabla['Equipo'].isin(champions)]"
   ]
  },
  {
   "cell_type": "code",
   "execution_count": 7,
   "metadata": {},
   "outputs": [],
   "source": [
    "def pareto(liga):\n",
    "    tabla_liga = tabla[tabla['Equipo'].isin(liga['Equipo'].unique())]\n",
    "    return tabla_liga['Valor de mercado'].sort_values(ascending=False)[:int(len(tabla_liga)*0.2)].sum() / tabla_liga['Valor de mercado'].sum()"
   ]
  },
  {
   "cell_type": "code",
   "execution_count": 27,
   "metadata": {},
   "outputs": [
    {
     "data": {
      "text/plain": [
       "0.7539710589646057"
      ]
     },
     "execution_count": 27,
     "metadata": {},
     "output_type": "execute_result"
    }
   ],
   "source": [
    "pareto(tabla2)"
   ]
  },
  {
   "cell_type": "code",
   "execution_count": 16,
   "metadata": {},
   "outputs": [
    {
     "data": {
      "text/plain": [
       "array(['Brighton', 'West Ham', 'Bologna', 'Huddersfield', 'Granada',\n",
       "       'Celta Vigo', 'Alavés', 'Sampdoria', 'Osasuna', 'Sassuolo',\n",
       "       'Parma', 'Getafe', 'Rayo Vallecano', 'Everton', 'Genoa',\n",
       "       'Mallorca', 'Betis', 'Fulham', 'Benevento', 'Málaga',\n",
       "       'Southampton', 'Leeds United', 'Norwich City', 'Lazio', 'Udinese',\n",
       "       'Cagliari', 'Bournemouth', 'Torino', 'Atalanta', 'Hellas Verona',\n",
       "       'Watford', 'Crotone', 'Espanyol', 'Huesca', 'Athletic Club',\n",
       "       'Empoli', 'West Brom', 'Real Sociedad', 'Spezia', 'Roma',\n",
       "       'Fiorentina', 'Crystal Palace', 'Cremonese', 'Cádiz', 'Girona',\n",
       "       'La Coruña', 'Levante', 'Almería', 'Leicester City', 'Las Palmas',\n",
       "       'SPAL', 'Brescia', 'Lecce', 'Monza', \"Nott'ham Forest\",\n",
       "       'Liverpool', 'Leganés', 'Venezia', 'Newcastle Utd', 'Eibar',\n",
       "       'Frosinone', 'Salernitana', 'Chievo', 'Swansea City',\n",
       "       'Sheffield Utd', 'Valladolid', 'Cardiff City', 'Burnley', 'Elche',\n",
       "       'Stoke City', 'Brentford', 'Aston Villa', 'Wolves'], dtype=object)"
      ]
     },
     "execution_count": 16,
     "metadata": {},
     "output_type": "execute_result"
    }
   ],
   "source": [
    "tabla2['Equipo'].unique()"
   ]
  },
  {
   "cell_type": "markdown",
   "metadata": {},
   "source": [
    "# Exporto"
   ]
  },
  {
   "cell_type": "code",
   "execution_count": 28,
   "metadata": {},
   "outputs": [],
   "source": [
    "tabla2.to_csv('../csv/csv_limpios/sinchampions.csv')"
   ]
  },
  {
   "cell_type": "code",
   "execution_count": null,
   "metadata": {},
   "outputs": [],
   "source": []
  }
 ],
 "metadata": {
  "kernelspec": {
   "display_name": "base",
   "language": "python",
   "name": "python3"
  },
  "language_info": {
   "codemirror_mode": {
    "name": "ipython",
    "version": 3
   },
   "file_extension": ".py",
   "mimetype": "text/x-python",
   "name": "python",
   "nbconvert_exporter": "python",
   "pygments_lexer": "ipython3",
   "version": "3.10.9"
  }
 },
 "nbformat": 4,
 "nbformat_minor": 2
}
