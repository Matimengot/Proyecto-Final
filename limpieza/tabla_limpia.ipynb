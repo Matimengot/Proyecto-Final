{
 "cells": [
  {
   "cell_type": "code",
   "execution_count": 1,
   "metadata": {},
   "outputs": [],
   "source": [
    "import pandas as pd\n",
    "import numpy as np"
   ]
  },
  {
   "cell_type": "markdown",
   "metadata": {},
   "source": [
    "# Concateno todas las ligas"
   ]
  },
  {
   "cell_type": "code",
   "execution_count": 2,
   "metadata": {},
   "outputs": [],
   "source": [
    "# Importo mis tablas de datos\n",
    "premier = pd.read_csv('../csv/csv_limpios/premier_lp.csv')\n",
    "liga = pd.read_csv('../csv/csv_limpios/laliga_lp.csv')\n",
    "serie= pd.read_csv('../csv/csv_limpios/serie_lp.csv')"
   ]
  },
  {
   "cell_type": "code",
   "execution_count": 6,
   "metadata": {},
   "outputs": [],
   "source": [
    "#Concateno las tablas\n",
    "jugadores = pd.concat([premier, liga, serie])"
   ]
  },
  {
   "cell_type": "markdown",
   "metadata": {},
   "source": [
    "# Exploro "
   ]
  },
  {
   "cell_type": "code",
   "execution_count": 7,
   "metadata": {},
   "outputs": [
    {
     "data": {
      "text/html": [
       "<div>\n",
       "<style scoped>\n",
       "    .dataframe tbody tr th:only-of-type {\n",
       "        vertical-align: middle;\n",
       "    }\n",
       "\n",
       "    .dataframe tbody tr th {\n",
       "        vertical-align: top;\n",
       "    }\n",
       "\n",
       "    .dataframe thead th {\n",
       "        text-align: right;\n",
       "    }\n",
       "</style>\n",
       "<table border=\"1\" class=\"dataframe\">\n",
       "  <thead>\n",
       "    <tr style=\"text-align: right;\">\n",
       "      <th></th>\n",
       "      <th>Unnamed: 0</th>\n",
       "      <th>Jugador</th>\n",
       "      <th>País</th>\n",
       "      <th>Posc</th>\n",
       "      <th>Equipo</th>\n",
       "      <th>Edad</th>\n",
       "      <th>Nacimiento</th>\n",
       "      <th>PJ</th>\n",
       "      <th>Titular</th>\n",
       "      <th>Mín</th>\n",
       "      <th>Gls.</th>\n",
       "      <th>Asistencias</th>\n",
       "      <th>Goles+Asistencias</th>\n",
       "      <th>Tarjetas Amarillas</th>\n",
       "      <th>Tarjetas Rojas</th>\n",
       "      <th>Goles Esperados</th>\n",
       "      <th>Asistencias Esperadas</th>\n",
       "    </tr>\n",
       "  </thead>\n",
       "  <tbody>\n",
       "    <tr>\n",
       "      <th>0</th>\n",
       "      <td>0</td>\n",
       "      <td>Max Aarons</td>\n",
       "      <td>ENG</td>\n",
       "      <td>Defensa</td>\n",
       "      <td>Bournemouth</td>\n",
       "      <td>23</td>\n",
       "      <td>2000</td>\n",
       "      <td>12</td>\n",
       "      <td>11</td>\n",
       "      <td>950</td>\n",
       "      <td>0</td>\n",
       "      <td>1</td>\n",
       "      <td>1</td>\n",
       "      <td>1</td>\n",
       "      <td>0</td>\n",
       "      <td>0.0</td>\n",
       "      <td>0.8</td>\n",
       "    </tr>\n",
       "    <tr>\n",
       "      <th>1</th>\n",
       "      <td>1</td>\n",
       "      <td>Bénie Adama Traore</td>\n",
       "      <td>CIV</td>\n",
       "      <td>Delantero</td>\n",
       "      <td>Sheffield Utd</td>\n",
       "      <td>21</td>\n",
       "      <td>2002</td>\n",
       "      <td>6</td>\n",
       "      <td>3</td>\n",
       "      <td>325</td>\n",
       "      <td>0</td>\n",
       "      <td>0</td>\n",
       "      <td>0</td>\n",
       "      <td>0</td>\n",
       "      <td>0</td>\n",
       "      <td>0.3</td>\n",
       "      <td>0.5</td>\n",
       "    </tr>\n",
       "    <tr>\n",
       "      <th>2</th>\n",
       "      <td>2</td>\n",
       "      <td>Tosin Adarabioyo</td>\n",
       "      <td>ENG</td>\n",
       "      <td>Defensa</td>\n",
       "      <td>Fulham</td>\n",
       "      <td>26</td>\n",
       "      <td>1997</td>\n",
       "      <td>2</td>\n",
       "      <td>0</td>\n",
       "      <td>3</td>\n",
       "      <td>0</td>\n",
       "      <td>0</td>\n",
       "      <td>0</td>\n",
       "      <td>0</td>\n",
       "      <td>0</td>\n",
       "      <td>0.0</td>\n",
       "      <td>0.0</td>\n",
       "    </tr>\n",
       "    <tr>\n",
       "      <th>3</th>\n",
       "      <td>3</td>\n",
       "      <td>Elijah Adebayo</td>\n",
       "      <td>ENG</td>\n",
       "      <td>Delantero</td>\n",
       "      <td>Luton Town</td>\n",
       "      <td>25</td>\n",
       "      <td>1998</td>\n",
       "      <td>13</td>\n",
       "      <td>4</td>\n",
       "      <td>405</td>\n",
       "      <td>2</td>\n",
       "      <td>0</td>\n",
       "      <td>2</td>\n",
       "      <td>1</td>\n",
       "      <td>0</td>\n",
       "      <td>1.4</td>\n",
       "      <td>0.3</td>\n",
       "    </tr>\n",
       "    <tr>\n",
       "      <th>4</th>\n",
       "      <td>4</td>\n",
       "      <td>Simon Adingra</td>\n",
       "      <td>CIV</td>\n",
       "      <td>Delantero</td>\n",
       "      <td>Brighton</td>\n",
       "      <td>21</td>\n",
       "      <td>2002</td>\n",
       "      <td>12</td>\n",
       "      <td>8</td>\n",
       "      <td>756</td>\n",
       "      <td>3</td>\n",
       "      <td>1</td>\n",
       "      <td>4</td>\n",
       "      <td>2</td>\n",
       "      <td>0</td>\n",
       "      <td>1.4</td>\n",
       "      <td>1.5</td>\n",
       "    </tr>\n",
       "  </tbody>\n",
       "</table>\n",
       "</div>"
      ],
      "text/plain": [
       "   Unnamed: 0             Jugador País       Posc         Equipo  Edad  \\\n",
       "0           0          Max Aarons  ENG    Defensa    Bournemouth    23   \n",
       "1           1  Bénie Adama Traore  CIV  Delantero  Sheffield Utd    21   \n",
       "2           2    Tosin Adarabioyo  ENG    Defensa         Fulham    26   \n",
       "3           3      Elijah Adebayo  ENG  Delantero     Luton Town    25   \n",
       "4           4       Simon Adingra  CIV  Delantero       Brighton    21   \n",
       "\n",
       "   Nacimiento  PJ  Titular  Mín  Gls.  Asistencias  Goles+Asistencias  \\\n",
       "0        2000  12       11  950     0            1                  1   \n",
       "1        2002   6        3  325     0            0                  0   \n",
       "2        1997   2        0    3     0            0                  0   \n",
       "3        1998  13        4  405     2            0                  2   \n",
       "4        2002  12        8  756     3            1                  4   \n",
       "\n",
       "   Tarjetas Amarillas  Tarjetas Rojas  Goles Esperados  Asistencias Esperadas  \n",
       "0                   1               0              0.0                    0.8  \n",
       "1                   0               0              0.3                    0.5  \n",
       "2                   0               0              0.0                    0.0  \n",
       "3                   1               0              1.4                    0.3  \n",
       "4                   2               0              1.4                    1.5  "
      ]
     },
     "execution_count": 7,
     "metadata": {},
     "output_type": "execute_result"
    }
   ],
   "source": [
    "jugadores.head()"
   ]
  },
  {
   "cell_type": "code",
   "execution_count": 9,
   "metadata": {},
   "outputs": [
    {
     "name": "stdout",
     "output_type": "stream",
     "text": [
      "<class 'pandas.core.frame.DataFrame'>\n",
      "Int64Index: 9557 entries, 0 to 2947\n",
      "Data columns (total 17 columns):\n",
      " #   Column                 Non-Null Count  Dtype  \n",
      "---  ------                 --------------  -----  \n",
      " 0   Unnamed: 0             9557 non-null   int64  \n",
      " 1   Jugador                9557 non-null   object \n",
      " 2   País                   9557 non-null   object \n",
      " 3   Posc                   9557 non-null   object \n",
      " 4   Equipo                 9557 non-null   object \n",
      " 5   Edad                   9557 non-null   int64  \n",
      " 6   Nacimiento             9557 non-null   int64  \n",
      " 7   PJ                     9557 non-null   int64  \n",
      " 8   Titular                9557 non-null   int64  \n",
      " 9   Mín                    9557 non-null   int64  \n",
      " 10  Gls.                   9557 non-null   int64  \n",
      " 11  Asistencias            9557 non-null   int64  \n",
      " 12  Goles+Asistencias      9557 non-null   int64  \n",
      " 13  Tarjetas Amarillas     9557 non-null   int64  \n",
      " 14  Tarjetas Rojas         9557 non-null   int64  \n",
      " 15  Goles Esperados        9557 non-null   float64\n",
      " 16  Asistencias Esperadas  9557 non-null   float64\n",
      "dtypes: float64(2), int64(11), object(4)\n",
      "memory usage: 1.3+ MB\n"
     ]
    }
   ],
   "source": [
    "jugadores.info()"
   ]
  },
  {
   "cell_type": "code",
   "execution_count": 14,
   "metadata": {},
   "outputs": [
    {
     "data": {
      "text/plain": [
       "(9557, 16)"
      ]
     },
     "execution_count": 14,
     "metadata": {},
     "output_type": "execute_result"
    }
   ],
   "source": [
    "jugadores.shape"
   ]
  },
  {
   "cell_type": "markdown",
   "metadata": {},
   "source": [
    "# Limpieza"
   ]
  },
  {
   "cell_type": "code",
   "execution_count": 11,
   "metadata": {},
   "outputs": [],
   "source": [
    "# Borro la columna Unnamed: 0\n",
    "jugadores.drop(columns=['Unnamed: 0'], inplace=True)"
   ]
  },
  {
   "cell_type": "code",
   "execution_count": 15,
   "metadata": {},
   "outputs": [
    {
     "name": "stderr",
     "output_type": "stream",
     "text": [
      "C:\\Users\\matia\\AppData\\Local\\Temp\\ipykernel_111264\\2301413988.py:8: FutureWarning: ['País', 'Posc', 'Equipo'] did not aggregate successfully. If any error is raised this will raise in a future version of pandas. Drop these columns/ops to avoid this warning.\n",
      "  jugadores_tot = jugadores.groupby('Jugador').agg(custom_agg)\n"
     ]
    }
   ],
   "source": [
    "# Agrupo los jugadores que se repiten y hago la media de sus valores\n",
    "def custom_agg(x):\n",
    "    if x.name == 'Edad':\n",
    "        return np.max(x)\n",
    "    else:\n",
    "        return np.mean(x)\n",
    "\n",
    "jugadores_tot = jugadores.groupby('Jugador').agg(custom_agg)"
   ]
  },
  {
   "cell_type": "markdown",
   "metadata": {},
   "source": [
    "# Exporto"
   ]
  },
  {
   "cell_type": "code",
   "execution_count": 16,
   "metadata": {},
   "outputs": [],
   "source": [
    "#Exporto jugadores_tot para ir escrapeando sus valores de mercado\n",
    "jugadores_tot.to_csv('../csv/csv_limpios/jugadores_tot.csv')"
   ]
  },
  {
   "cell_type": "code",
   "execution_count": null,
   "metadata": {},
   "outputs": [],
   "source": []
  }
 ],
 "metadata": {
  "kernelspec": {
   "display_name": "base",
   "language": "python",
   "name": "python3"
  },
  "language_info": {
   "codemirror_mode": {
    "name": "ipython",
    "version": 3
   },
   "file_extension": ".py",
   "mimetype": "text/x-python",
   "name": "python",
   "nbconvert_exporter": "python",
   "pygments_lexer": "ipython3",
   "version": "3.10.9"
  }
 },
 "nbformat": 4,
 "nbformat_minor": 2
}
