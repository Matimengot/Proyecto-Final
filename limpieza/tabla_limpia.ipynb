{
 "cells": [
  {
   "cell_type": "code",
   "execution_count": 1,
   "metadata": {},
   "outputs": [],
   "source": [
    "import pandas as pd\n",
    "import numpy as np"
   ]
  },
  {
   "cell_type": "markdown",
   "metadata": {},
   "source": [
    "# Concateno todas las ligas"
   ]
  },
  {
   "cell_type": "code",
   "execution_count": 2,
   "metadata": {},
   "outputs": [],
   "source": [
    "# Importo mis tablas de datos\n",
    "premier = pd.read_csv('../csv/csv_limpios/premier_lp.csv')\n",
    "liga = pd.read_csv('../csv/csv_limpios/laliga_lp.csv')\n",
    "serie= pd.read_csv('../csv/csv_limpios/serie_lp.csv')"
   ]
  },
  {
   "cell_type": "code",
   "execution_count": 3,
   "metadata": {},
   "outputs": [],
   "source": [
    "#Concateno las tablas\n",
    "jugadores = pd.concat([premier, liga, serie])"
   ]
  },
  {
   "cell_type": "markdown",
   "metadata": {},
   "source": [
    "# Exploro "
   ]
  },
  {
   "cell_type": "code",
   "execution_count": 4,
   "metadata": {},
   "outputs": [
    {
     "data": {
      "text/html": [
       "<div>\n",
       "<style scoped>\n",
       "    .dataframe tbody tr th:only-of-type {\n",
       "        vertical-align: middle;\n",
       "    }\n",
       "\n",
       "    .dataframe tbody tr th {\n",
       "        vertical-align: top;\n",
       "    }\n",
       "\n",
       "    .dataframe thead th {\n",
       "        text-align: right;\n",
       "    }\n",
       "</style>\n",
       "<table border=\"1\" class=\"dataframe\">\n",
       "  <thead>\n",
       "    <tr style=\"text-align: right;\">\n",
       "      <th></th>\n",
       "      <th>Unnamed: 0</th>\n",
       "      <th>Jugador</th>\n",
       "      <th>País</th>\n",
       "      <th>Posc</th>\n",
       "      <th>Equipo</th>\n",
       "      <th>Edad</th>\n",
       "      <th>Nacimiento</th>\n",
       "      <th>PJ</th>\n",
       "      <th>Titular</th>\n",
       "      <th>Mín</th>\n",
       "      <th>Gls.</th>\n",
       "      <th>Asistencias</th>\n",
       "      <th>Goles+Asistencias</th>\n",
       "      <th>Tarjetas Amarillas</th>\n",
       "      <th>Tarjetas Rojas</th>\n",
       "      <th>Goles Esperados</th>\n",
       "      <th>Asistencias Esperadas</th>\n",
       "    </tr>\n",
       "  </thead>\n",
       "  <tbody>\n",
       "    <tr>\n",
       "      <th>0</th>\n",
       "      <td>0</td>\n",
       "      <td>Max Aarons</td>\n",
       "      <td>ENG</td>\n",
       "      <td>Defensa</td>\n",
       "      <td>Bournemouth</td>\n",
       "      <td>23</td>\n",
       "      <td>2000</td>\n",
       "      <td>12</td>\n",
       "      <td>11</td>\n",
       "      <td>950</td>\n",
       "      <td>0</td>\n",
       "      <td>1</td>\n",
       "      <td>1</td>\n",
       "      <td>1</td>\n",
       "      <td>0</td>\n",
       "      <td>0.0</td>\n",
       "      <td>0.8</td>\n",
       "    </tr>\n",
       "    <tr>\n",
       "      <th>1</th>\n",
       "      <td>1</td>\n",
       "      <td>Bénie Adama Traore</td>\n",
       "      <td>CIV</td>\n",
       "      <td>Delantero</td>\n",
       "      <td>Sheffield Utd</td>\n",
       "      <td>21</td>\n",
       "      <td>2002</td>\n",
       "      <td>6</td>\n",
       "      <td>3</td>\n",
       "      <td>325</td>\n",
       "      <td>0</td>\n",
       "      <td>0</td>\n",
       "      <td>0</td>\n",
       "      <td>0</td>\n",
       "      <td>0</td>\n",
       "      <td>0.3</td>\n",
       "      <td>0.5</td>\n",
       "    </tr>\n",
       "    <tr>\n",
       "      <th>2</th>\n",
       "      <td>2</td>\n",
       "      <td>Tosin Adarabioyo</td>\n",
       "      <td>ENG</td>\n",
       "      <td>Defensa</td>\n",
       "      <td>Fulham</td>\n",
       "      <td>26</td>\n",
       "      <td>1997</td>\n",
       "      <td>2</td>\n",
       "      <td>0</td>\n",
       "      <td>3</td>\n",
       "      <td>0</td>\n",
       "      <td>0</td>\n",
       "      <td>0</td>\n",
       "      <td>0</td>\n",
       "      <td>0</td>\n",
       "      <td>0.0</td>\n",
       "      <td>0.0</td>\n",
       "    </tr>\n",
       "    <tr>\n",
       "      <th>3</th>\n",
       "      <td>3</td>\n",
       "      <td>Elijah Adebayo</td>\n",
       "      <td>ENG</td>\n",
       "      <td>Delantero</td>\n",
       "      <td>Luton Town</td>\n",
       "      <td>25</td>\n",
       "      <td>1998</td>\n",
       "      <td>13</td>\n",
       "      <td>4</td>\n",
       "      <td>405</td>\n",
       "      <td>2</td>\n",
       "      <td>0</td>\n",
       "      <td>2</td>\n",
       "      <td>1</td>\n",
       "      <td>0</td>\n",
       "      <td>1.4</td>\n",
       "      <td>0.3</td>\n",
       "    </tr>\n",
       "    <tr>\n",
       "      <th>4</th>\n",
       "      <td>4</td>\n",
       "      <td>Simon Adingra</td>\n",
       "      <td>CIV</td>\n",
       "      <td>Delantero</td>\n",
       "      <td>Brighton</td>\n",
       "      <td>21</td>\n",
       "      <td>2002</td>\n",
       "      <td>12</td>\n",
       "      <td>8</td>\n",
       "      <td>756</td>\n",
       "      <td>3</td>\n",
       "      <td>1</td>\n",
       "      <td>4</td>\n",
       "      <td>2</td>\n",
       "      <td>0</td>\n",
       "      <td>1.4</td>\n",
       "      <td>1.5</td>\n",
       "    </tr>\n",
       "  </tbody>\n",
       "</table>\n",
       "</div>"
      ],
      "text/plain": [
       "   Unnamed: 0             Jugador País       Posc         Equipo  Edad  \\\n",
       "0           0          Max Aarons  ENG    Defensa    Bournemouth    23   \n",
       "1           1  Bénie Adama Traore  CIV  Delantero  Sheffield Utd    21   \n",
       "2           2    Tosin Adarabioyo  ENG    Defensa         Fulham    26   \n",
       "3           3      Elijah Adebayo  ENG  Delantero     Luton Town    25   \n",
       "4           4       Simon Adingra  CIV  Delantero       Brighton    21   \n",
       "\n",
       "   Nacimiento  PJ  Titular  Mín  Gls.  Asistencias  Goles+Asistencias  \\\n",
       "0        2000  12       11  950     0            1                  1   \n",
       "1        2002   6        3  325     0            0                  0   \n",
       "2        1997   2        0    3     0            0                  0   \n",
       "3        1998  13        4  405     2            0                  2   \n",
       "4        2002  12        8  756     3            1                  4   \n",
       "\n",
       "   Tarjetas Amarillas  Tarjetas Rojas  Goles Esperados  Asistencias Esperadas  \n",
       "0                   1               0              0.0                    0.8  \n",
       "1                   0               0              0.3                    0.5  \n",
       "2                   0               0              0.0                    0.0  \n",
       "3                   1               0              1.4                    0.3  \n",
       "4                   2               0              1.4                    1.5  "
      ]
     },
     "execution_count": 4,
     "metadata": {},
     "output_type": "execute_result"
    }
   ],
   "source": [
    "jugadores.head()"
   ]
  },
  {
   "cell_type": "code",
   "execution_count": 5,
   "metadata": {},
   "outputs": [
    {
     "name": "stdout",
     "output_type": "stream",
     "text": [
      "<class 'pandas.core.frame.DataFrame'>\n",
      "Int64Index: 9557 entries, 0 to 2947\n",
      "Data columns (total 17 columns):\n",
      " #   Column                 Non-Null Count  Dtype  \n",
      "---  ------                 --------------  -----  \n",
      " 0   Unnamed: 0             9557 non-null   int64  \n",
      " 1   Jugador                9557 non-null   object \n",
      " 2   País                   9557 non-null   object \n",
      " 3   Posc                   9557 non-null   object \n",
      " 4   Equipo                 9557 non-null   object \n",
      " 5   Edad                   9557 non-null   int64  \n",
      " 6   Nacimiento             9557 non-null   int64  \n",
      " 7   PJ                     9557 non-null   int64  \n",
      " 8   Titular                9557 non-null   int64  \n",
      " 9   Mín                    9557 non-null   int64  \n",
      " 10  Gls.                   9557 non-null   int64  \n",
      " 11  Asistencias            9557 non-null   int64  \n",
      " 12  Goles+Asistencias      9557 non-null   int64  \n",
      " 13  Tarjetas Amarillas     9557 non-null   int64  \n",
      " 14  Tarjetas Rojas         9557 non-null   int64  \n",
      " 15  Goles Esperados        9557 non-null   float64\n",
      " 16  Asistencias Esperadas  9557 non-null   float64\n",
      "dtypes: float64(2), int64(11), object(4)\n",
      "memory usage: 1.3+ MB\n"
     ]
    }
   ],
   "source": [
    "jugadores.info()"
   ]
  },
  {
   "cell_type": "code",
   "execution_count": 6,
   "metadata": {},
   "outputs": [
    {
     "data": {
      "text/plain": [
       "(9557, 17)"
      ]
     },
     "execution_count": 6,
     "metadata": {},
     "output_type": "execute_result"
    }
   ],
   "source": [
    "jugadores.shape"
   ]
  },
  {
   "cell_type": "markdown",
   "metadata": {},
   "source": [
    "# Limpieza"
   ]
  },
  {
   "cell_type": "code",
   "execution_count": 7,
   "metadata": {},
   "outputs": [],
   "source": [
    "# Borro la columna Unnamed: 0\n",
    "jugadores.drop(columns=['Unnamed: 0'], inplace=True)"
   ]
  },
  {
   "cell_type": "code",
   "execution_count": 8,
   "metadata": {},
   "outputs": [
    {
     "name": "stderr",
     "output_type": "stream",
     "text": [
      "C:\\Users\\matia\\AppData\\Local\\Temp\\ipykernel_19676\\2301413988.py:8: FutureWarning: ['País', 'Posc', 'Equipo'] did not aggregate successfully. If any error is raised this will raise in a future version of pandas. Drop these columns/ops to avoid this warning.\n",
      "  jugadores_tot = jugadores.groupby('Jugador').agg(custom_agg)\n"
     ]
    }
   ],
   "source": [
    "# Agrupo los jugadores que se repiten y hago la media de sus valores\n",
    "def custom_agg(x):\n",
    "    if x.name == 'Edad':\n",
    "        return np.max(x)\n",
    "    else:\n",
    "        return np.mean(x)\n",
    "\n",
    "jugadores_tot = jugadores.groupby('Jugador').agg(custom_agg)"
   ]
  },
  {
   "cell_type": "code",
   "execution_count": 9,
   "metadata": {},
   "outputs": [
    {
     "data": {
      "text/plain": [
       "(3579, 12)"
      ]
     },
     "execution_count": 9,
     "metadata": {},
     "output_type": "execute_result"
    }
   ],
   "source": [
    "jugadores_tot.shape"
   ]
  },
  {
   "cell_type": "markdown",
   "metadata": {},
   "source": [
    "# Agrego los valores de mercado a la tabla"
   ]
  },
  {
   "cell_type": "code",
   "execution_count": 10,
   "metadata": {},
   "outputs": [],
   "source": [
    "valor = pd.read_csv('../csv/csv_limpios/valores.csv')"
   ]
  },
  {
   "cell_type": "code",
   "execution_count": 11,
   "metadata": {},
   "outputs": [
    {
     "data": {
      "text/plain": [
       "Valor de mercado\n",
       "-                   344\n",
       "2,00 mill. €        155\n",
       "1,00 mill. €        147\n",
       "1,50 mill. €        141\n",
       "3,00 mill. €        135\n",
       "                   ... \n",
       "26,00 mill. €         1\n",
       "325 mil €             1\n",
       "375 mil €             1\n",
       "4,30 mill. €          1\n",
       "950 mil €             1\n",
       "Length: 109, dtype: int64"
      ]
     },
     "execution_count": 11,
     "metadata": {},
     "output_type": "execute_result"
    }
   ],
   "source": [
    "valor.value_counts()"
   ]
  },
  {
   "cell_type": "code",
   "execution_count": 12,
   "metadata": {},
   "outputs": [
    {
     "data": {
      "text/html": [
       "<div>\n",
       "<style scoped>\n",
       "    .dataframe tbody tr th:only-of-type {\n",
       "        vertical-align: middle;\n",
       "    }\n",
       "\n",
       "    .dataframe tbody tr th {\n",
       "        vertical-align: top;\n",
       "    }\n",
       "\n",
       "    .dataframe thead th {\n",
       "        text-align: right;\n",
       "    }\n",
       "</style>\n",
       "<table border=\"1\" class=\"dataframe\">\n",
       "  <thead>\n",
       "    <tr style=\"text-align: right;\">\n",
       "      <th></th>\n",
       "      <th>Valor de mercado</th>\n",
       "    </tr>\n",
       "  </thead>\n",
       "  <tbody>\n",
       "    <tr>\n",
       "      <th>0</th>\n",
       "      <td>3,50 mill. €</td>\n",
       "    </tr>\n",
       "    <tr>\n",
       "      <th>1</th>\n",
       "      <td>1,20 mill. €</td>\n",
       "    </tr>\n",
       "    <tr>\n",
       "      <th>2</th>\n",
       "      <td>30,00 mill. €</td>\n",
       "    </tr>\n",
       "    <tr>\n",
       "      <th>3</th>\n",
       "      <td>-</td>\n",
       "    </tr>\n",
       "    <tr>\n",
       "      <th>4</th>\n",
       "      <td>-</td>\n",
       "    </tr>\n",
       "  </tbody>\n",
       "</table>\n",
       "</div>"
      ],
      "text/plain": [
       "  Valor de mercado\n",
       "0     3,50 mill. €\n",
       "1     1,20 mill. €\n",
       "2    30,00 mill. €\n",
       "3                -\n",
       "4                -"
      ]
     },
     "execution_count": 12,
     "metadata": {},
     "output_type": "execute_result"
    }
   ],
   "source": [
    "valor.head()"
   ]
  },
  {
   "cell_type": "code",
   "execution_count": 13,
   "metadata": {},
   "outputs": [
    {
     "data": {
      "text/plain": [
       "(3579, 1)"
      ]
     },
     "execution_count": 13,
     "metadata": {},
     "output_type": "execute_result"
    }
   ],
   "source": [
    "valor.shape"
   ]
  },
  {
   "cell_type": "code",
   "execution_count": 22,
   "metadata": {},
   "outputs": [],
   "source": [
    "# Igualo el indice de valor al de jugadores\n",
    "valor.set_index(jugadores_tot.index, inplace=True)\n"
   ]
  },
  {
   "cell_type": "code",
   "execution_count": 18,
   "metadata": {},
   "outputs": [
    {
     "name": "stdout",
     "output_type": "stream",
     "text": [
      "False\n"
     ]
    }
   ],
   "source": [
    "print(jugadores_tot.index.equals(valor.index))"
   ]
  },
  {
   "cell_type": "code",
   "execution_count": 23,
   "metadata": {},
   "outputs": [],
   "source": [
    "# Le agrego la columna valor a la tabla de jugadores\n",
    "jugadores_tot['Valor de mercado'] = valor['Valor de mercado']\n"
   ]
  },
  {
   "cell_type": "code",
   "execution_count": 25,
   "metadata": {},
   "outputs": [
    {
     "data": {
      "text/plain": [
       "-                 344\n",
       "2,00 mill. €      155\n",
       "1,00 mill. €      147\n",
       "1,50 mill. €      141\n",
       "3,00 mill. €      135\n",
       "                 ... \n",
       "19,00 mill. €       1\n",
       "180,00 mill. €      1\n",
       "26,00 mill. €       1\n",
       "4,30 mill. €        1\n",
       "375 mil €           1\n",
       "Name: Valor de mercado, Length: 109, dtype: int64"
      ]
     },
     "execution_count": 25,
     "metadata": {},
     "output_type": "execute_result"
    }
   ],
   "source": [
    "jugadores_tot['Valor de mercado'].value_counts()"
   ]
  },
  {
   "cell_type": "code",
   "execution_count": 28,
   "metadata": {},
   "outputs": [],
   "source": [
    "# Saco los valores '-' de la columna valor\n",
    "jugadores_tot = jugadores_tot[jugadores_tot['Valor de mercado'] != '-']"
   ]
  },
  {
   "cell_type": "code",
   "execution_count": 35,
   "metadata": {},
   "outputs": [
    {
     "data": {
      "text/html": [
       "<div>\n",
       "<style scoped>\n",
       "    .dataframe tbody tr th:only-of-type {\n",
       "        vertical-align: middle;\n",
       "    }\n",
       "\n",
       "    .dataframe tbody tr th {\n",
       "        vertical-align: top;\n",
       "    }\n",
       "\n",
       "    .dataframe thead th {\n",
       "        text-align: right;\n",
       "    }\n",
       "</style>\n",
       "<table border=\"1\" class=\"dataframe\">\n",
       "  <thead>\n",
       "    <tr style=\"text-align: right;\">\n",
       "      <th></th>\n",
       "      <th>Edad</th>\n",
       "      <th>Nacimiento</th>\n",
       "      <th>PJ</th>\n",
       "      <th>Titular</th>\n",
       "      <th>Mín</th>\n",
       "      <th>Gls.</th>\n",
       "      <th>Asistencias</th>\n",
       "      <th>Goles+Asistencias</th>\n",
       "      <th>Tarjetas Amarillas</th>\n",
       "      <th>Tarjetas Rojas</th>\n",
       "      <th>Goles Esperados</th>\n",
       "      <th>Asistencias Esperadas</th>\n",
       "      <th>Valor de mercado</th>\n",
       "    </tr>\n",
       "    <tr>\n",
       "      <th>Jugador</th>\n",
       "      <th></th>\n",
       "      <th></th>\n",
       "      <th></th>\n",
       "      <th></th>\n",
       "      <th></th>\n",
       "      <th></th>\n",
       "      <th></th>\n",
       "      <th></th>\n",
       "      <th></th>\n",
       "      <th></th>\n",
       "      <th></th>\n",
       "      <th></th>\n",
       "      <th></th>\n",
       "    </tr>\n",
       "  </thead>\n",
       "  <tbody>\n",
       "    <tr>\n",
       "      <th>Aaron Connolly</th>\n",
       "      <td>21</td>\n",
       "      <td>2000.00</td>\n",
       "      <td>15.00</td>\n",
       "      <td>8.00</td>\n",
       "      <td>735.00</td>\n",
       "      <td>1.666667</td>\n",
       "      <td>0.666667</td>\n",
       "      <td>2.333333</td>\n",
       "      <td>0.0</td>\n",
       "      <td>0.00</td>\n",
       "      <td>2.80</td>\n",
       "      <td>0.266667</td>\n",
       "      <td>3,50 mill. €</td>\n",
       "    </tr>\n",
       "    <tr>\n",
       "      <th>Aaron Cresswell</th>\n",
       "      <td>33</td>\n",
       "      <td>1989.00</td>\n",
       "      <td>25.60</td>\n",
       "      <td>24.60</td>\n",
       "      <td>2188.60</td>\n",
       "      <td>1.000000</td>\n",
       "      <td>2.400000</td>\n",
       "      <td>3.400000</td>\n",
       "      <td>3.2</td>\n",
       "      <td>0.00</td>\n",
       "      <td>0.76</td>\n",
       "      <td>3.340000</td>\n",
       "      <td>1,20 mill. €</td>\n",
       "    </tr>\n",
       "    <tr>\n",
       "      <th>Aaron Hickey</th>\n",
       "      <td>21</td>\n",
       "      <td>2002.00</td>\n",
       "      <td>20.50</td>\n",
       "      <td>19.00</td>\n",
       "      <td>1551.75</td>\n",
       "      <td>1.250000</td>\n",
       "      <td>0.500000</td>\n",
       "      <td>1.750000</td>\n",
       "      <td>5.5</td>\n",
       "      <td>0.25</td>\n",
       "      <td>0.40</td>\n",
       "      <td>0.600000</td>\n",
       "      <td>30,00 mill. €</td>\n",
       "    </tr>\n",
       "    <tr>\n",
       "      <th>Aaron Ramsdale</th>\n",
       "      <td>25</td>\n",
       "      <td>1998.00</td>\n",
       "      <td>30.40</td>\n",
       "      <td>30.40</td>\n",
       "      <td>2736.00</td>\n",
       "      <td>0.000000</td>\n",
       "      <td>0.200000</td>\n",
       "      <td>0.200000</td>\n",
       "      <td>0.6</td>\n",
       "      <td>0.00</td>\n",
       "      <td>0.00</td>\n",
       "      <td>0.160000</td>\n",
       "      <td>32,00 mill. €</td>\n",
       "    </tr>\n",
       "    <tr>\n",
       "      <th>Aaron Ramsey</th>\n",
       "      <td>30</td>\n",
       "      <td>1993.25</td>\n",
       "      <td>14.00</td>\n",
       "      <td>6.75</td>\n",
       "      <td>619.00</td>\n",
       "      <td>1.250000</td>\n",
       "      <td>1.250000</td>\n",
       "      <td>2.500000</td>\n",
       "      <td>1.0</td>\n",
       "      <td>0.00</td>\n",
       "      <td>1.70</td>\n",
       "      <td>1.225000</td>\n",
       "      <td>2,50 mill. €</td>\n",
       "    </tr>\n",
       "    <tr>\n",
       "      <th>...</th>\n",
       "      <td>...</td>\n",
       "      <td>...</td>\n",
       "      <td>...</td>\n",
       "      <td>...</td>\n",
       "      <td>...</td>\n",
       "      <td>...</td>\n",
       "      <td>...</td>\n",
       "      <td>...</td>\n",
       "      <td>...</td>\n",
       "      <td>...</td>\n",
       "      <td>...</td>\n",
       "      <td>...</td>\n",
       "      <td>...</td>\n",
       "    </tr>\n",
       "    <tr>\n",
       "      <th>İsmail Köybaşı</th>\n",
       "      <td>30</td>\n",
       "      <td>1989.00</td>\n",
       "      <td>4.00</td>\n",
       "      <td>3.00</td>\n",
       "      <td>231.00</td>\n",
       "      <td>0.000000</td>\n",
       "      <td>0.000000</td>\n",
       "      <td>0.000000</td>\n",
       "      <td>1.0</td>\n",
       "      <td>0.00</td>\n",
       "      <td>0.00</td>\n",
       "      <td>0.000000</td>\n",
       "      <td>100 mil €</td>\n",
       "    </tr>\n",
       "    <tr>\n",
       "      <th>Ľubomír Tupta</th>\n",
       "      <td>22</td>\n",
       "      <td>1998.00</td>\n",
       "      <td>2.00</td>\n",
       "      <td>1.00</td>\n",
       "      <td>50.00</td>\n",
       "      <td>0.000000</td>\n",
       "      <td>0.000000</td>\n",
       "      <td>0.000000</td>\n",
       "      <td>0.0</td>\n",
       "      <td>0.00</td>\n",
       "      <td>0.00</td>\n",
       "      <td>0.000000</td>\n",
       "      <td>600 mil €</td>\n",
       "    </tr>\n",
       "    <tr>\n",
       "      <th>Łukasz Fabiański</th>\n",
       "      <td>37</td>\n",
       "      <td>1985.00</td>\n",
       "      <td>33.25</td>\n",
       "      <td>33.25</td>\n",
       "      <td>2927.00</td>\n",
       "      <td>0.000000</td>\n",
       "      <td>0.000000</td>\n",
       "      <td>0.000000</td>\n",
       "      <td>1.5</td>\n",
       "      <td>0.00</td>\n",
       "      <td>0.00</td>\n",
       "      <td>0.000000</td>\n",
       "      <td>900 mil €</td>\n",
       "    </tr>\n",
       "    <tr>\n",
       "      <th>Łukasz Skorupski</th>\n",
       "      <td>32</td>\n",
       "      <td>1991.00</td>\n",
       "      <td>30.20</td>\n",
       "      <td>30.20</td>\n",
       "      <td>2718.00</td>\n",
       "      <td>0.000000</td>\n",
       "      <td>0.000000</td>\n",
       "      <td>0.000000</td>\n",
       "      <td>2.4</td>\n",
       "      <td>0.00</td>\n",
       "      <td>0.00</td>\n",
       "      <td>0.000000</td>\n",
       "      <td>3,50 mill. €</td>\n",
       "    </tr>\n",
       "    <tr>\n",
       "      <th>Žan Majer</th>\n",
       "      <td>27</td>\n",
       "      <td>1992.00</td>\n",
       "      <td>27.00</td>\n",
       "      <td>19.00</td>\n",
       "      <td>1664.00</td>\n",
       "      <td>1.000000</td>\n",
       "      <td>1.000000</td>\n",
       "      <td>2.000000</td>\n",
       "      <td>7.0</td>\n",
       "      <td>0.00</td>\n",
       "      <td>1.80</td>\n",
       "      <td>1.500000</td>\n",
       "      <td>1,30 mill. €</td>\n",
       "    </tr>\n",
       "  </tbody>\n",
       "</table>\n",
       "<p>3235 rows × 13 columns</p>\n",
       "</div>"
      ],
      "text/plain": [
       "                  Edad  Nacimiento     PJ  Titular      Mín      Gls.  \\\n",
       "Jugador                                                                 \n",
       "Aaron Connolly      21     2000.00  15.00     8.00   735.00  1.666667   \n",
       "Aaron Cresswell     33     1989.00  25.60    24.60  2188.60  1.000000   \n",
       "Aaron Hickey        21     2002.00  20.50    19.00  1551.75  1.250000   \n",
       "Aaron Ramsdale      25     1998.00  30.40    30.40  2736.00  0.000000   \n",
       "Aaron Ramsey        30     1993.25  14.00     6.75   619.00  1.250000   \n",
       "...                ...         ...    ...      ...      ...       ...   \n",
       "İsmail Köybaşı      30     1989.00   4.00     3.00   231.00  0.000000   \n",
       "Ľubomír Tupta       22     1998.00   2.00     1.00    50.00  0.000000   \n",
       "Łukasz Fabiański    37     1985.00  33.25    33.25  2927.00  0.000000   \n",
       "Łukasz Skorupski    32     1991.00  30.20    30.20  2718.00  0.000000   \n",
       "Žan Majer           27     1992.00  27.00    19.00  1664.00  1.000000   \n",
       "\n",
       "                  Asistencias  Goles+Asistencias  Tarjetas Amarillas  \\\n",
       "Jugador                                                                \n",
       "Aaron Connolly       0.666667           2.333333                 0.0   \n",
       "Aaron Cresswell      2.400000           3.400000                 3.2   \n",
       "Aaron Hickey         0.500000           1.750000                 5.5   \n",
       "Aaron Ramsdale       0.200000           0.200000                 0.6   \n",
       "Aaron Ramsey         1.250000           2.500000                 1.0   \n",
       "...                       ...                ...                 ...   \n",
       "İsmail Köybaşı       0.000000           0.000000                 1.0   \n",
       "Ľubomír Tupta        0.000000           0.000000                 0.0   \n",
       "Łukasz Fabiański     0.000000           0.000000                 1.5   \n",
       "Łukasz Skorupski     0.000000           0.000000                 2.4   \n",
       "Žan Majer            1.000000           2.000000                 7.0   \n",
       "\n",
       "                  Tarjetas Rojas  Goles Esperados  Asistencias Esperadas  \\\n",
       "Jugador                                                                    \n",
       "Aaron Connolly              0.00             2.80               0.266667   \n",
       "Aaron Cresswell             0.00             0.76               3.340000   \n",
       "Aaron Hickey                0.25             0.40               0.600000   \n",
       "Aaron Ramsdale              0.00             0.00               0.160000   \n",
       "Aaron Ramsey                0.00             1.70               1.225000   \n",
       "...                          ...              ...                    ...   \n",
       "İsmail Köybaşı              0.00             0.00               0.000000   \n",
       "Ľubomír Tupta               0.00             0.00               0.000000   \n",
       "Łukasz Fabiański            0.00             0.00               0.000000   \n",
       "Łukasz Skorupski            0.00             0.00               0.000000   \n",
       "Žan Majer                   0.00             1.80               1.500000   \n",
       "\n",
       "                 Valor de mercado  \n",
       "Jugador                            \n",
       "Aaron Connolly       3,50 mill. €  \n",
       "Aaron Cresswell      1,20 mill. €  \n",
       "Aaron Hickey        30,00 mill. €  \n",
       "Aaron Ramsdale      32,00 mill. €  \n",
       "Aaron Ramsey         2,50 mill. €  \n",
       "...                           ...  \n",
       "İsmail Köybaşı          100 mil €  \n",
       "Ľubomír Tupta           600 mil €  \n",
       "Łukasz Fabiański        900 mil €  \n",
       "Łukasz Skorupski     3,50 mill. €  \n",
       "Žan Majer            1,30 mill. €  \n",
       "\n",
       "[3235 rows x 13 columns]"
      ]
     },
     "execution_count": 35,
     "metadata": {},
     "output_type": "execute_result"
    }
   ],
   "source": [
    "jugadores_tot"
   ]
  },
  {
   "cell_type": "markdown",
   "metadata": {},
   "source": [
    "# Exporto"
   ]
  },
  {
   "cell_type": "code",
   "execution_count": 36,
   "metadata": {},
   "outputs": [],
   "source": [
    "#Exporto jugadores_tot para ir escrapeando sus valores de mercado\n",
    "jugadores_tot.to_csv('../csv/csv_limpios/jugadores_completo.csv')"
   ]
  },
  {
   "cell_type": "code",
   "execution_count": null,
   "metadata": {},
   "outputs": [],
   "source": []
  }
 ],
 "metadata": {
  "kernelspec": {
   "display_name": "base",
   "language": "python",
   "name": "python3"
  },
  "language_info": {
   "codemirror_mode": {
    "name": "ipython",
    "version": 3
   },
   "file_extension": ".py",
   "mimetype": "text/x-python",
   "name": "python",
   "nbconvert_exporter": "python",
   "pygments_lexer": "ipython3",
   "version": "3.10.9"
  }
 },
 "nbformat": 4,
 "nbformat_minor": 2
}
