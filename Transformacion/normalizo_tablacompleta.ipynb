{
 "cells": [
  {
   "cell_type": "code",
   "execution_count": 1,
   "metadata": {},
   "outputs": [],
   "source": [
    "import warnings  \n",
    "warnings.filterwarnings('ignore')\n",
    "\n",
    "import pandas as pd\n",
    "import numpy as np\n",
    "\n",
    "import matplotlib.pyplot as plt\n",
    "import seaborn as sns\n",
    "\n",
    "from sklearn.preprocessing import OneHotEncoder, StandardScaler\n",
    "\n",
    "from sklearn.model_selection import train_test_split as tts"
   ]
  },
  {
   "cell_type": "markdown",
   "metadata": {},
   "source": [
    "# Importo"
   ]
  },
  {
   "cell_type": "code",
   "execution_count": 2,
   "metadata": {},
   "outputs": [],
   "source": [
    "tabla = pd.read_csv('../csv/csv_limpios/tabla_completa_lp.csv')"
   ]
  },
  {
   "cell_type": "code",
   "execution_count": 4,
   "metadata": {},
   "outputs": [
    {
     "data": {
      "text/html": [
       "<div>\n",
       "<style scoped>\n",
       "    .dataframe tbody tr th:only-of-type {\n",
       "        vertical-align: middle;\n",
       "    }\n",
       "\n",
       "    .dataframe tbody tr th {\n",
       "        vertical-align: top;\n",
       "    }\n",
       "\n",
       "    .dataframe thead th {\n",
       "        text-align: right;\n",
       "    }\n",
       "</style>\n",
       "<table border=\"1\" class=\"dataframe\">\n",
       "  <thead>\n",
       "    <tr style=\"text-align: right;\">\n",
       "      <th></th>\n",
       "      <th>Jugador</th>\n",
       "      <th>Pais</th>\n",
       "      <th>Posicion</th>\n",
       "      <th>Equipo</th>\n",
       "      <th>Edad</th>\n",
       "      <th>Nacimiento</th>\n",
       "      <th>PJ</th>\n",
       "      <th>Titular</th>\n",
       "      <th>Mín</th>\n",
       "      <th>Goles</th>\n",
       "      <th>Asistencias</th>\n",
       "      <th>Goles+Asistencias</th>\n",
       "      <th>Tarjetas Amarillas</th>\n",
       "      <th>Tarjetas Rojas</th>\n",
       "      <th>Goles Esperados</th>\n",
       "      <th>Asistencias Esperadas</th>\n",
       "      <th>Temporada</th>\n",
       "      <th>Valor de mercado</th>\n",
       "    </tr>\n",
       "  </thead>\n",
       "  <tbody>\n",
       "    <tr>\n",
       "      <th>0</th>\n",
       "      <td>Aaron Connolly</td>\n",
       "      <td>IRL</td>\n",
       "      <td>Delantero</td>\n",
       "      <td>Brighton</td>\n",
       "      <td>21</td>\n",
       "      <td>2000.0</td>\n",
       "      <td>15.000000</td>\n",
       "      <td>8.000000</td>\n",
       "      <td>735.000000</td>\n",
       "      <td>1.666667</td>\n",
       "      <td>0.666667</td>\n",
       "      <td>2.333333</td>\n",
       "      <td>0.000000</td>\n",
       "      <td>0.000000</td>\n",
       "      <td>2.800000</td>\n",
       "      <td>0.266667</td>\n",
       "      <td>2019-2020</td>\n",
       "      <td>3500000.0</td>\n",
       "    </tr>\n",
       "    <tr>\n",
       "      <th>1</th>\n",
       "      <td>Aaron Cresswell</td>\n",
       "      <td>ENG</td>\n",
       "      <td>Defensa</td>\n",
       "      <td>West Ham</td>\n",
       "      <td>32</td>\n",
       "      <td>1989.0</td>\n",
       "      <td>30.333333</td>\n",
       "      <td>29.166667</td>\n",
       "      <td>2586.000000</td>\n",
       "      <td>1.000000</td>\n",
       "      <td>2.666667</td>\n",
       "      <td>3.666667</td>\n",
       "      <td>4.000000</td>\n",
       "      <td>0.000000</td>\n",
       "      <td>0.850000</td>\n",
       "      <td>3.483333</td>\n",
       "      <td>2017-2018</td>\n",
       "      <td>1200000.0</td>\n",
       "    </tr>\n",
       "    <tr>\n",
       "      <th>2</th>\n",
       "      <td>Aaron Hickey</td>\n",
       "      <td>SCO</td>\n",
       "      <td>Defensa</td>\n",
       "      <td>Brentford</td>\n",
       "      <td>20</td>\n",
       "      <td>2002.0</td>\n",
       "      <td>24.333333</td>\n",
       "      <td>22.333333</td>\n",
       "      <td>1831.333333</td>\n",
       "      <td>1.666667</td>\n",
       "      <td>0.666667</td>\n",
       "      <td>2.333333</td>\n",
       "      <td>5.666667</td>\n",
       "      <td>0.333333</td>\n",
       "      <td>0.466667</td>\n",
       "      <td>0.766667</td>\n",
       "      <td>2022-2023</td>\n",
       "      <td>30000000.0</td>\n",
       "    </tr>\n",
       "    <tr>\n",
       "      <th>3</th>\n",
       "      <td>Aaron Ramsdale</td>\n",
       "      <td>ENG</td>\n",
       "      <td>PO</td>\n",
       "      <td>Bournemouth</td>\n",
       "      <td>24</td>\n",
       "      <td>1998.0</td>\n",
       "      <td>36.750000</td>\n",
       "      <td>36.750000</td>\n",
       "      <td>3307.500000</td>\n",
       "      <td>0.000000</td>\n",
       "      <td>0.250000</td>\n",
       "      <td>0.250000</td>\n",
       "      <td>0.750000</td>\n",
       "      <td>0.000000</td>\n",
       "      <td>0.000000</td>\n",
       "      <td>0.200000</td>\n",
       "      <td>2019-2020</td>\n",
       "      <td>32000000.0</td>\n",
       "    </tr>\n",
       "    <tr>\n",
       "      <th>4</th>\n",
       "      <td>Aaron Ramsey</td>\n",
       "      <td>WAL</td>\n",
       "      <td>Centrocampista</td>\n",
       "      <td>Arsenal</td>\n",
       "      <td>30</td>\n",
       "      <td>1990.0</td>\n",
       "      <td>20.200000</td>\n",
       "      <td>12.000000</td>\n",
       "      <td>1083.200000</td>\n",
       "      <td>3.200000</td>\n",
       "      <td>3.800000</td>\n",
       "      <td>7.000000</td>\n",
       "      <td>0.800000</td>\n",
       "      <td>0.000000</td>\n",
       "      <td>3.240000</td>\n",
       "      <td>2.380000</td>\n",
       "      <td>2017-2018</td>\n",
       "      <td>2500000.0</td>\n",
       "    </tr>\n",
       "  </tbody>\n",
       "</table>\n",
       "</div>"
      ],
      "text/plain": [
       "           Jugador Pais        Posicion       Equipo  Edad  Nacimiento  \\\n",
       "0   Aaron Connolly  IRL       Delantero     Brighton    21      2000.0   \n",
       "1  Aaron Cresswell  ENG         Defensa     West Ham    32      1989.0   \n",
       "2     Aaron Hickey  SCO         Defensa    Brentford    20      2002.0   \n",
       "3   Aaron Ramsdale  ENG              PO  Bournemouth    24      1998.0   \n",
       "4     Aaron Ramsey  WAL  Centrocampista      Arsenal    30      1990.0   \n",
       "\n",
       "          PJ    Titular          Mín     Goles  Asistencias  \\\n",
       "0  15.000000   8.000000   735.000000  1.666667     0.666667   \n",
       "1  30.333333  29.166667  2586.000000  1.000000     2.666667   \n",
       "2  24.333333  22.333333  1831.333333  1.666667     0.666667   \n",
       "3  36.750000  36.750000  3307.500000  0.000000     0.250000   \n",
       "4  20.200000  12.000000  1083.200000  3.200000     3.800000   \n",
       "\n",
       "   Goles+Asistencias  Tarjetas Amarillas  Tarjetas Rojas  Goles Esperados  \\\n",
       "0           2.333333            0.000000        0.000000         2.800000   \n",
       "1           3.666667            4.000000        0.000000         0.850000   \n",
       "2           2.333333            5.666667        0.333333         0.466667   \n",
       "3           0.250000            0.750000        0.000000         0.000000   \n",
       "4           7.000000            0.800000        0.000000         3.240000   \n",
       "\n",
       "   Asistencias Esperadas  Temporada  Valor de mercado  \n",
       "0               0.266667  2019-2020         3500000.0  \n",
       "1               3.483333  2017-2018         1200000.0  \n",
       "2               0.766667  2022-2023        30000000.0  \n",
       "3               0.200000  2019-2020        32000000.0  \n",
       "4               2.380000  2017-2018         2500000.0  "
      ]
     },
     "execution_count": 4,
     "metadata": {},
     "output_type": "execute_result"
    }
   ],
   "source": [
    "tabla.head()"
   ]
  },
  {
   "cell_type": "markdown",
   "metadata": {},
   "source": [
    "# Normalizo las stats del jugador"
   ]
  },
  {
   "cell_type": "code",
   "execution_count": 5,
   "metadata": {},
   "outputs": [],
   "source": [
    "# Normalizo los datos numericos\n",
    "numericos = tabla.select_dtypes(exclude=['object']).columns\n",
    "\n",
    "# Saco valor de mercado de numericos\n",
    "numericos = numericos.drop(['Valor de mercado', 'Edad','Nacimiento'])"
   ]
  },
  {
   "cell_type": "code",
   "execution_count": 6,
   "metadata": {},
   "outputs": [],
   "source": [
    "scaler = StandardScaler()\n",
    "\n",
    "scaled_numerical_data = scaler.fit_transform(tabla[numericos])"
   ]
  },
  {
   "cell_type": "code",
   "execution_count": 7,
   "metadata": {},
   "outputs": [],
   "source": [
    "# Llevo los datos numericos a un dataframe\n",
    "normalizado = pd.DataFrame(scaled_numerical_data, columns=numericos)"
   ]
  },
  {
   "cell_type": "markdown",
   "metadata": {},
   "source": [
    "# Exporto"
   ]
  },
  {
   "cell_type": "code",
   "execution_count": 9,
   "metadata": {},
   "outputs": [],
   "source": [
    "#Lo exporto a CSV para poder usarlo en el dashboard\n",
    "normalizado.to_csv('../csv/csv_limpios/normalizado.csv', index=False)"
   ]
  },
  {
   "cell_type": "code",
   "execution_count": null,
   "metadata": {},
   "outputs": [],
   "source": []
  }
 ],
 "metadata": {
  "kernelspec": {
   "display_name": "base",
   "language": "python",
   "name": "python3"
  },
  "language_info": {
   "codemirror_mode": {
    "name": "ipython",
    "version": 3
   },
   "file_extension": ".py",
   "mimetype": "text/x-python",
   "name": "python",
   "nbconvert_exporter": "python",
   "pygments_lexer": "ipython3",
   "version": "3.10.9"
  }
 },
 "nbformat": 4,
 "nbformat_minor": 2
}
