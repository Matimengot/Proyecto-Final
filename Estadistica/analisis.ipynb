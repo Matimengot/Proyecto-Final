{
 "cells": [
  {
   "cell_type": "code",
   "execution_count": 22,
   "metadata": {},
   "outputs": [],
   "source": [
    "import pandas as pd\n"
   ]
  },
  {
   "cell_type": "markdown",
   "metadata": {},
   "source": [
    "# Importo"
   ]
  },
  {
   "cell_type": "code",
   "execution_count": 23,
   "metadata": {},
   "outputs": [],
   "source": [
    "tabla = pd.read_csv('../csv/csv_limpios/tabla_completa_lp.csv', index_col=0)"
   ]
  },
  {
   "cell_type": "code",
   "execution_count": 24,
   "metadata": {},
   "outputs": [],
   "source": [
    "liga = pd.read_csv('../csv/csv_limpios/laliga_lp.csv', index_col=0)"
   ]
  },
  {
   "cell_type": "code",
   "execution_count": 25,
   "metadata": {},
   "outputs": [],
   "source": [
    "serieA = pd.read_csv('../csv/csv_limpios/serie_lp.csv', index_col=0)"
   ]
  },
  {
   "cell_type": "code",
   "execution_count": 26,
   "metadata": {},
   "outputs": [],
   "source": [
    "premier = pd.read_csv('../csv/csv_limpios/premier_lp.csv', index_col=0)"
   ]
  },
  {
   "cell_type": "markdown",
   "metadata": {},
   "source": [
    "# Analisis Estadistico"
   ]
  },
  {
   "cell_type": "code",
   "execution_count": 27,
   "metadata": {},
   "outputs": [
    {
     "data": {
      "text/plain": [
       "647"
      ]
     },
     "execution_count": 27,
     "metadata": {},
     "output_type": "execute_result"
    }
   ],
   "source": [
    "# Caluculo cuantos datos son el 20% de la tabla\n",
    "int(len(tabla)*0.2)"
   ]
  },
  {
   "cell_type": "code",
   "execution_count": 28,
   "metadata": {},
   "outputs": [
    {
     "data": {
      "text/plain": [
       "19436000000.0"
      ]
     },
     "execution_count": 28,
     "metadata": {},
     "output_type": "execute_result"
    }
   ],
   "source": [
    "# De la tabla, se cumple que el 20% de los valores de mercado representan el 80% de la capitalización de mercado\n",
    "\n",
    "tabla['Valor de mercado'].sort_values(ascending=False)[:int(len(tabla)*0.2)].sum()\n",
    "\n",
    "# Esto representa el valor de mercado del 20% de los jugadores mas caros"
   ]
  },
  {
   "cell_type": "code",
   "execution_count": 29,
   "metadata": {},
   "outputs": [
    {
     "data": {
      "text/plain": [
       "0.76332505114918"
      ]
     },
     "execution_count": 29,
     "metadata": {},
     "output_type": "execute_result"
    }
   ],
   "source": [
    "# Comparamos contra el valor de mercado total\n",
    "tabla['Valor de mercado'].sort_values(ascending=False)[:int(len(tabla)*0.2)].sum() / tabla['Valor de mercado'].sum()"
   ]
  },
  {
   "cell_type": "code",
   "execution_count": 30,
   "metadata": {},
   "outputs": [],
   "source": [
    "# Podemos ver que el principio de Pareto no se cumple para el valor de mercado de los jugadores de las tres ligas estudiadas"
   ]
  },
  {
   "cell_type": "code",
   "execution_count": 31,
   "metadata": {},
   "outputs": [],
   "source": [
    "# Hago una funcion que me calcule el principio de Pareto para cualquier liga\n",
    "def pareto(liga):\n",
    "    tabla_liga = tabla[tabla['Equipo'].isin(liga['Equipo'].unique())]\n",
    "    return tabla_liga['Valor de mercado'].sort_values(ascending=False)[:int(len(tabla_liga)*0.2)].sum() / tabla_liga['Valor de mercado'].sum()"
   ]
  },
  {
   "cell_type": "code",
   "execution_count": 32,
   "metadata": {},
   "outputs": [
    {
     "data": {
      "text/plain": [
       "(0.7738499766384913, 0.6816254219452862, 0.7772841186439569)"
      ]
     },
     "execution_count": 32,
     "metadata": {},
     "output_type": "execute_result"
    }
   ],
   "source": [
    "pareto(serieA), pareto(premier), pareto(liga)"
   ]
  },
  {
   "cell_type": "code",
   "execution_count": 33,
   "metadata": {},
   "outputs": [],
   "source": [
    "#convierto a dataframe mis resultados\n",
    "pareto_valor = pd.DataFrame({'Liga': ['Serie A', 'Premier', 'La Liga'], 'Pareto': [pareto(serieA), pareto(premier), pareto(liga)]})\n"
   ]
  },
  {
   "cell_type": "code",
   "execution_count": 34,
   "metadata": {},
   "outputs": [
    {
     "data": {
      "text/html": [
       "<div>\n",
       "<style scoped>\n",
       "    .dataframe tbody tr th:only-of-type {\n",
       "        vertical-align: middle;\n",
       "    }\n",
       "\n",
       "    .dataframe tbody tr th {\n",
       "        vertical-align: top;\n",
       "    }\n",
       "\n",
       "    .dataframe thead th {\n",
       "        text-align: right;\n",
       "    }\n",
       "</style>\n",
       "<table border=\"1\" class=\"dataframe\">\n",
       "  <thead>\n",
       "    <tr style=\"text-align: right;\">\n",
       "      <th></th>\n",
       "      <th>Liga</th>\n",
       "      <th>Pareto</th>\n",
       "    </tr>\n",
       "  </thead>\n",
       "  <tbody>\n",
       "    <tr>\n",
       "      <th>0</th>\n",
       "      <td>Serie A</td>\n",
       "      <td>0.773850</td>\n",
       "    </tr>\n",
       "    <tr>\n",
       "      <th>1</th>\n",
       "      <td>Premier</td>\n",
       "      <td>0.681625</td>\n",
       "    </tr>\n",
       "    <tr>\n",
       "      <th>2</th>\n",
       "      <td>La Liga</td>\n",
       "      <td>0.777284</td>\n",
       "    </tr>\n",
       "  </tbody>\n",
       "</table>\n",
       "</div>"
      ],
      "text/plain": [
       "      Liga    Pareto\n",
       "0  Serie A  0.773850\n",
       "1  Premier  0.681625\n",
       "2  La Liga  0.777284"
      ]
     },
     "execution_count": 34,
     "metadata": {},
     "output_type": "execute_result"
    }
   ],
   "source": [
    "pareto_valor"
   ]
  },
  {
   "cell_type": "code",
   "execution_count": 35,
   "metadata": {},
   "outputs": [],
   "source": [
    "# Podemos ver que el principio de Pareto no se cumple para ninguna de las ligas, aunque en la serie A y en la Liga se acerca bastante\n"
   ]
  },
  {
   "cell_type": "code",
   "execution_count": 36,
   "metadata": {},
   "outputs": [
    {
     "data": {
      "text/plain": [
       "ESP    657\n",
       "ITA    467\n",
       "ENG    327\n",
       "FRA    128\n",
       "ARG    126\n",
       "      ... \n",
       "UZB      1\n",
       "GLP      1\n",
       "IRQ      1\n",
       "LBY      1\n",
       "CHN      1\n",
       "Name: Pais, Length: 115, dtype: int64"
      ]
     },
     "execution_count": 36,
     "metadata": {},
     "output_type": "execute_result"
    }
   ],
   "source": [
    "tabla['Pais'].value_counts()"
   ]
  },
  {
   "cell_type": "code",
   "execution_count": 37,
   "metadata": {},
   "outputs": [
    {
     "data": {
      "text/plain": [
       "(0.6947688987163619, 0.7525864992046842, 0.7738595642697846)"
      ]
     },
     "execution_count": 37,
     "metadata": {},
     "output_type": "execute_result"
    }
   ],
   "source": [
    "# Hacemos pareto pero para los paises de la tabla. Viendo si con Inglaterra, España e Italia se cumple el principio de Pareto\n",
    "\n",
    "pareto(tabla[tabla['Pais'] == 'ENG']), pareto(tabla[tabla['Pais'] == 'ESP']), pareto(tabla[tabla['Pais'] == 'ITA'])\n"
   ]
  },
  {
   "cell_type": "code",
   "execution_count": 38,
   "metadata": {},
   "outputs": [],
   "source": [
    "#Vemos que nuevamente no se cumple el principio de Pareto para ninguno de los paises, pero si se acerca.\n",
    "# Esto demouestra que a la hora de ver el valor de mercado de los jugadores, vamos a encontrar outliers ya que existen paisees\n",
    "# que tienen pocos jugadores con un valor de mercado muy alto, y otros que tienen muchos jugadores con un valor de mercado bajo"
   ]
  },
  {
   "cell_type": "code",
   "execution_count": 39,
   "metadata": {},
   "outputs": [],
   "source": [
    "# Convierto mis resultados en un dataframe para poder visualizarlos mejor\n",
    "\n",
    "pareto_paises = pd.DataFrame({'Pais': ['ENG', 'ESP', 'ITA'], 'Pareto': [pareto(tabla[tabla['Pais'] == 'ENG']), pareto(tabla[tabla['Pais'] == 'ESP']), pareto(tabla[tabla['Pais'] == 'ITA'])]})\n",
    "\n"
   ]
  },
  {
   "cell_type": "code",
   "execution_count": 40,
   "metadata": {},
   "outputs": [
    {
     "data": {
      "text/html": [
       "<div>\n",
       "<style scoped>\n",
       "    .dataframe tbody tr th:only-of-type {\n",
       "        vertical-align: middle;\n",
       "    }\n",
       "\n",
       "    .dataframe tbody tr th {\n",
       "        vertical-align: top;\n",
       "    }\n",
       "\n",
       "    .dataframe thead th {\n",
       "        text-align: right;\n",
       "    }\n",
       "</style>\n",
       "<table border=\"1\" class=\"dataframe\">\n",
       "  <thead>\n",
       "    <tr style=\"text-align: right;\">\n",
       "      <th></th>\n",
       "      <th>Pais</th>\n",
       "      <th>Pareto</th>\n",
       "    </tr>\n",
       "  </thead>\n",
       "  <tbody>\n",
       "    <tr>\n",
       "      <th>0</th>\n",
       "      <td>ENG</td>\n",
       "      <td>0.694769</td>\n",
       "    </tr>\n",
       "    <tr>\n",
       "      <th>1</th>\n",
       "      <td>ESP</td>\n",
       "      <td>0.752586</td>\n",
       "    </tr>\n",
       "    <tr>\n",
       "      <th>2</th>\n",
       "      <td>ITA</td>\n",
       "      <td>0.773860</td>\n",
       "    </tr>\n",
       "  </tbody>\n",
       "</table>\n",
       "</div>"
      ],
      "text/plain": [
       "  Pais    Pareto\n",
       "0  ENG  0.694769\n",
       "1  ESP  0.752586\n",
       "2  ITA  0.773860"
      ]
     },
     "execution_count": 40,
     "metadata": {},
     "output_type": "execute_result"
    }
   ],
   "source": [
    "pareto_paises"
   ]
  },
  {
   "cell_type": "markdown",
   "metadata": {},
   "source": [
    "# Exporto a CSV"
   ]
  },
  {
   "cell_type": "code",
   "execution_count": 41,
   "metadata": {},
   "outputs": [],
   "source": [
    "pareto_paises.to_csv('../csv/csv_limpios/pareto_paises.csv', index=False)\n",
    "pareto_valor.to_csv('../csv/csv_limpios/pareto_valor.csv', index=False)"
   ]
  },
  {
   "cell_type": "code",
   "execution_count": null,
   "metadata": {},
   "outputs": [],
   "source": []
  }
 ],
 "metadata": {
  "kernelspec": {
   "display_name": "base",
   "language": "python",
   "name": "python3"
  },
  "language_info": {
   "codemirror_mode": {
    "name": "ipython",
    "version": 3
   },
   "file_extension": ".py",
   "mimetype": "text/x-python",
   "name": "python",
   "nbconvert_exporter": "python",
   "pygments_lexer": "ipython3",
   "version": "3.10.9"
  }
 },
 "nbformat": 4,
 "nbformat_minor": 2
}
